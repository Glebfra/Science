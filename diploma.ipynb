{
 "cells": [
  {
   "cell_type": "code",
   "execution_count": 1,
   "id": "initial_id",
   "metadata": {
    "collapsed": true,
    "ExecuteTime": {
     "end_time": "2024-06-26T15:59:27.887736700Z",
     "start_time": "2024-06-26T15:59:15.152172600Z"
    }
   },
   "outputs": [],
   "source": [
    "import tensorflow as tf\n",
    "import requests\n",
    "import numpy as np\n",
    "import matplotlib.pyplot as plt\n",
    "import requests\n",
    "from matplotlib.path import Path\n",
    "from matplotlib.patches import PathPatch\n",
    "from matplotlib.animation import FuncAnimation\n",
    "\n",
    "from scipy.optimize import curve_fit\n",
    "from scipy.integrate import quad\n",
    "from scipy.optimize import curve_fit\n",
    "\n",
    "from src.plotter.Plotter import Plotter\n",
    "from src.maths.Error import r_squared\n",
    "from src.network.Genetic import de"
   ]
  },
  {
   "cell_type": "markdown",
   "source": [
    "<h2 align='center'>Loading data from server</h2>"
   ],
   "metadata": {
    "collapsed": false
   },
   "id": "f8bfee5da6657e42"
  },
  {
   "cell_type": "code",
   "outputs": [],
   "source": [
    "data = requests.get('http://v5464.hosted-by-vdsina.com:8000/science/phases/?format=json&limit=1000').json()['results']\n",
    "temperature = np.array([dat['temperature'] for dat in data], dtype=np.float32)\n",
    "pressure = np.array([dat['pressure'] for dat in data], dtype=np.float32)\n",
    "density = np.array([dat['density'] for dat in data], dtype=np.float32)\n",
    "\n",
    "sort_mask = np.lexsort((temperature, pressure, density))\n",
    "temperature = temperature[sort_mask]\n",
    "pressure = pressure[sort_mask]\n",
    "density = density[sort_mask]\n",
    "\n",
    "\n",
    "saturation_data = requests.get('http://v5464.hosted-by-vdsina.com:8000/science/saturations/?format=json&limit=81&offset=81').json()['results']\n",
    "saturation_temperature = np.array([dat['temperature'] for dat in saturation_data])\n",
    "saturation_pressure = np.array([dat['pressure'] for dat in saturation_data])\n",
    "saturation_density = np.array([dat['density'] for dat in saturation_data])\n",
    "\n",
    "sort_mask = np.lexsort((saturation_temperature, saturation_pressure, saturation_density))\n",
    "saturation_temperature = saturation_temperature[sort_mask]\n",
    "saturation_pressure = saturation_pressure[sort_mask]\n",
    "saturation_density = saturation_density[sort_mask]\n",
    "\n",
    "\n",
    "linearized_temperature = (temperature - min(temperature)) / (max(temperature) - min(temperature))\n",
    "linearized_pressure = (pressure - min(pressure)) / (max(pressure) - min(pressure))\n",
    "linearized_density = (density - min(density)) / (max(density) - min(density))\n",
    "\n",
    "\n",
    "M = 200.592e-3\n",
    "R = 8.31\n",
    "N_a = 6e24\n",
    "\n",
    "critical_temperature = 1490+273.15\n",
    "critical_pressure = 1510e5\n",
    "critical_density = 5500\n",
    "\n",
    "temperature_set = np.array(list(set(temperature)), dtype=np.float32)\n",
    "temperature_set.sort()\n",
    "\n",
    "pressure_set = np.array(list(set(pressure)), dtype=np.float32)\n",
    "pressure_set.sort()\n",
    "\n",
    "density_set = np.array(list(set(pressure)), dtype=np.float32)\n",
    "density_set.sort()"
   ],
   "metadata": {
    "collapsed": false,
    "ExecuteTime": {
     "end_time": "2024-06-26T15:59:28.561724900Z",
     "start_time": "2024-06-26T15:59:27.898740300Z"
    }
   },
   "id": "478f5af56c61f63a",
   "execution_count": 2
  },
  {
   "cell_type": "code",
   "outputs": [],
   "source": [
    "%matplotlib qt"
   ],
   "metadata": {
    "collapsed": false,
    "ExecuteTime": {
     "end_time": "2024-06-26T15:59:29.732620900Z",
     "start_time": "2024-06-26T15:59:28.565726Z"
    }
   },
   "id": "66c5edcbc5ad67c1",
   "execution_count": 3
  },
  {
   "cell_type": "markdown",
   "source": [
    "<h2 align='center'>Saturation line</h2>"
   ],
   "metadata": {
    "collapsed": false
   },
   "id": "867ab3ac49ab4477"
  },
  {
   "cell_type": "markdown",
   "source": [
    "<h3>Plotting the experimental data</h3>"
   ],
   "metadata": {
    "collapsed": false
   },
   "id": "abe33f9b2aa915e9"
  },
  {
   "cell_type": "code",
   "outputs": [
    {
     "data": {
      "text/plain": "125170000.0"
     },
     "execution_count": 76,
     "metadata": {},
     "output_type": "execute_result"
    }
   ],
   "source": [
    "max(saturation_pressure)"
   ],
   "metadata": {
    "collapsed": false,
    "ExecuteTime": {
     "end_time": "2024-06-26T23:43:59.403872Z",
     "start_time": "2024-06-26T23:43:59.373532900Z"
    }
   },
   "id": "4a98d02f5da4d12c",
   "execution_count": 76
  },
  {
   "cell_type": "code",
   "outputs": [],
   "source": [
    "plt.rcParams.update({'font.size' : 16})"
   ],
   "metadata": {
    "collapsed": false,
    "ExecuteTime": {
     "end_time": "2024-06-26T15:59:29.757127Z",
     "start_time": "2024-06-26T15:59:29.737120900Z"
    }
   },
   "id": "be8d2d04ca7690c0",
   "execution_count": 4
  },
  {
   "cell_type": "code",
   "outputs": [],
   "source": [
    "fig = plt.figure(layout='compressed', figsize=(7, 6))\n",
    "plt.scatter(saturation_temperature, saturation_pressure, color='b', label='Экспериментальные данные')\n",
    "plt.scatter(critical_temperature, critical_pressure, color='r', label='Критическая точка')\n",
    "# plt.grid(True)\n",
    "plt.xlabel(r'$T_s$ $(K)$', fontsize=20)\n",
    "plt.ylabel(r'$p_s$ $(Па)$', fontsize=20)\n",
    "plt.legend(edgecolor='k')\n",
    "plt.show()"
   ],
   "metadata": {
    "collapsed": false,
    "ExecuteTime": {
     "end_time": "2024-06-26T23:41:50.101521Z",
     "start_time": "2024-06-26T23:41:49.990459500Z"
    }
   },
   "id": "19e597385c4f30fd",
   "execution_count": 74
  },
  {
   "cell_type": "markdown",
   "source": [
    "<h3>Plotting the linearized data</h3>"
   ],
   "metadata": {
    "collapsed": false
   },
   "id": "e96c18b3d4cd9419"
  },
  {
   "cell_type": "code",
   "outputs": [],
   "source": [
    "fig = plt.figure(layout='compressed', figsize=(6, 6))\n",
    "plotter = Plotter(dimension='2d')\n",
    "plotter.scatter(critical_temperature / saturation_temperature, np.log(saturation_pressure / critical_pressure), color='b', label='Экспериментальные данные')\n",
    "plotter.scatter(1, 0, color='r', label='Критическая точка')\n",
    "plotter.xlabel(r'$T_c/T_s$')\n",
    "plotter.ylabel(r'ln $(p_s/p_c)$')\n",
    "plotter.legend()\n",
    "plotter.grid(True)\n",
    "plotter.show()"
   ],
   "metadata": {
    "collapsed": false,
    "ExecuteTime": {
     "end_time": "2024-06-26T16:38:08.083513600Z",
     "start_time": "2024-06-26T16:38:07.944949700Z"
    }
   },
   "id": "63a1063a976b8c46",
   "execution_count": 20
  },
  {
   "cell_type": "markdown",
   "source": [
    "<h3>Converting the data to linearized fraction of critical point</h3>"
   ],
   "metadata": {
    "collapsed": false
   },
   "id": "859f8ce46575035a"
  },
  {
   "cell_type": "code",
   "outputs": [],
   "source": [
    "x = lambda t: critical_temperature / t\n",
    "y = lambda t: np.log(t / critical_pressure)\n",
    "\n",
    "plotter = Plotter(dimension='2d')\n",
    "plotter.scatter(x(saturation_temperature), y(saturation_pressure), color='b', label='Экспериментальные данные')\n",
    "plotter.scatter(x(critical_temperature), y(critical_pressure), color='r', label='Критическая точка')\n",
    "plotter.grid(True)\n",
    "plotter.xlabel(r'$T_c/T_s$')\n",
    "plotter.ylabel(r'$ln(p_s/p_c)$')\n",
    "plotter.legend(edgecolor='k')\n",
    "plotter.show()"
   ],
   "metadata": {
    "collapsed": false,
    "ExecuteTime": {
     "end_time": "2024-06-26T17:01:23.128417100Z",
     "start_time": "2024-06-26T17:01:23.022029100Z"
    }
   },
   "id": "69248435593c3f3",
   "execution_count": 24
  },
  {
   "cell_type": "markdown",
   "source": [
    "<h3>Approximating data to linearized fraction of critical point</h3>"
   ],
   "metadata": {
    "collapsed": false
   },
   "id": "53ed94124c449c49"
  },
  {
   "cell_type": "code",
   "outputs": [],
   "source": [
    "def fit_saturation_line(x, a, b):\n",
    "    return a * x + b\n",
    "\n",
    "\n",
    "x = lambda t: critical_temperature / t\n",
    "y = lambda t: np.log(t / critical_pressure)\n",
    "X = lambda t: critical_temperature / x(t)\n",
    "Y = lambda t: np.exp(y(t)) * critical_pressure\n",
    "\n",
    "fit_saturation_line_popt, fit_saturation_line_pcov = curve_fit(fit_saturation_line, x(saturation_temperature), y(saturation_pressure))\n",
    "fit_saturation_line_popt = np.round(fit_saturation_line_popt, 2)\n",
    "\n",
    "plt.figure(layout='compressed', figsize=(7, 6))\n",
    "plotter = Plotter(dimension='2d')\n",
    "plotter.scatter(x(saturation_temperature), y(saturation_pressure), color='b', label='Экспериментальные данные')\n",
    "plotter.scatter(x(critical_temperature), y(critical_pressure), color='r', label='Критическая точка')\n",
    "plotter.plot(\n",
    "    x(saturation_temperature), fit_saturation_line(x(saturation_temperature), *fit_saturation_line_popt), \n",
    "    color='r', label='Уравнение линии насыщения'\n",
    ")\n",
    "plt.annotate(\n",
    "    rf'$y(x)={fit_saturation_line_popt[0]}x+{fit_saturation_line_popt[1]}$', \n",
    "    xy=(3.3, -9), xytext=(4, -7.5), \n",
    "    arrowprops={'facecolor': 'black', 'shrink' : 0.05}\n",
    ")\n",
    "plotter.xlabel(r'$T_c/T_s$', fontsize=20)\n",
    "plotter.ylabel(r'ln $(p_s/p_c)$', fontsize=20)\n",
    "plotter.legend(edgecolor='k')\n",
    "plotter.show()"
   ],
   "metadata": {
    "collapsed": false,
    "ExecuteTime": {
     "end_time": "2024-06-26T17:31:59.155793800Z",
     "start_time": "2024-06-26T17:31:59.073555100Z"
    }
   },
   "id": "f5a71518b0dfa38a",
   "execution_count": 38
  },
  {
   "cell_type": "markdown",
   "source": [
    "<h3>Approximating data to fraction of critical point</h3>"
   ],
   "metadata": {
    "collapsed": false
   },
   "id": "9f12a71cb5ed8722"
  },
  {
   "cell_type": "code",
   "outputs": [
    {
     "name": "stdout",
     "output_type": "stream",
     "text": [
      "0.998\n"
     ]
    }
   ],
   "source": [
    "def fit_saturation_line(x, a, b):\n",
    "    return a * x + b\n",
    "\n",
    "\n",
    "x = lambda t: critical_temperature / t\n",
    "y = lambda t: np.log(t / critical_pressure)\n",
    "X = lambda t: t / critical_temperature\n",
    "Y = lambda t: np.exp(t) * critical_pressure\n",
    "\n",
    "fit_saturation_line_popt, fit_saturation_line_pcov = curve_fit(fit_saturation_line, x(saturation_temperature), y(saturation_pressure))\n",
    "saturation_line_linspace_x = np.linspace(min(saturation_temperature), critical_temperature)\n",
    "saturation_line_linspace_y = fit_saturation_line(x(saturation_line_linspace_x), *fit_saturation_line_popt)\n",
    "\n",
    "r = r_squared(Y(fit_saturation_line(x(saturation_temperature), *fit_saturation_line_popt)), saturation_pressure)\n",
    "r = np.round(r, 3)\n",
    "plt.figure(layout='compressed', figsize=(7, 6))\n",
    "plotter = Plotter(dimension='2d')\n",
    "plotter.scatter(saturation_temperature, saturation_pressure, color='b', label='Экспериментальные данные')\n",
    "plotter.scatter(critical_temperature, critical_pressure, color='r', label='Критическая точка')\n",
    "plotter.plot(saturation_line_linspace_x, Y(saturation_line_linspace_y), color='r', label='Уравнение линии насыщения, \\n$R^2=%r$' %r)\n",
    "plt.annotate(\n",
    "    r'$\\dfrac {p_s} {p_c}=e^{4.1 \\bullet (1- \\dfrac {T_c} {T_s})}$', \n",
    "    xy=(1300, 0.4e8), xytext=(500, 0.6e8), arrowprops={'facecolor': 'black', 'shrink' : 0.05},\n",
    "    fontsize=22\n",
    ")\n",
    "plotter.xlabel(r'$T_s$ $(K)$', fontsize=20)\n",
    "plotter.ylabel(r'$p_s$ $(Па)$', fontsize=20)\n",
    "plotter.legend(edgecolor='k')\n",
    "plotter.show()\n",
    "print(r)"
   ],
   "metadata": {
    "collapsed": false,
    "ExecuteTime": {
     "end_time": "2024-06-26T17:32:02.649197200Z",
     "start_time": "2024-06-26T17:32:02.518574300Z"
    }
   },
   "id": "182256c4f9808a09",
   "execution_count": 39
  },
  {
   "cell_type": "markdown",
   "source": [
    "<h3>Attempting water saturation line equation</h3>"
   ],
   "metadata": {
    "collapsed": false
   },
   "id": "5c3ad9b2973ce31c"
  },
  {
   "cell_type": "code",
   "outputs": [
    {
     "name": "stdout",
     "output_type": "stream",
     "text": [
      "0.9997470798645709\n"
     ]
    }
   ],
   "source": [
    "def water_equation_of_state(x, a_1, a_2, a_3, a_4, a_5, a_6):\n",
    "    return x * (a_1 * (1-1/x) + a_2 * (1-1/x) ** 1.5 + a_3 * (1-1/x) ** 3 + a_4 * (1-1/x) ** 3.5 + a_5 * (1-1/x) ** 4 + a_6 * (1-1/x) ** 7.5)\n",
    "\n",
    "x = lambda t: critical_temperature / t\n",
    "y = lambda t: np.log(t / critical_pressure)\n",
    "X = lambda t: t / critical_temperature\n",
    "Y = lambda t: np.exp(t) * critical_pressure\n",
    "\n",
    "water_popt, water_pcov = curve_fit(water_equation_of_state, x(saturation_temperature), y(saturation_pressure))\n",
    "water_equation_of_state_linspace_x = np.linspace(min(saturation_temperature), critical_temperature)\n",
    "water_equation_of_state_linspace_y = Y(water_equation_of_state(x(water_equation_of_state_linspace_x), *water_popt))\n",
    "\n",
    "r = r_squared(Y(water_equation_of_state(x(saturation_temperature), *water_popt)), saturation_pressure)\n",
    "plt.figure(layout='compressed', figsize=(7, 6))\n",
    "plotter = Plotter(dimension='2d')\n",
    "plotter.scatter(saturation_temperature, saturation_pressure, color='b', label='Экспериментальные данные')\n",
    "plotter.scatter(critical_temperature, critical_pressure, color='r', label='Критическая точка')\n",
    "plotter.plot(water_equation_of_state_linspace_x, water_equation_of_state_linspace_y, '--k', label='Уравнение Вагнера')\n",
    "plotter.plot(saturation_line_linspace_x, Y(saturation_line_linspace_y), '--r', label='Уравнение линии насыщения')\n",
    "plotter.grid(True)\n",
    "plotter.xlabel(r'$T_s$')\n",
    "plotter.ylabel(r'$p_s$')\n",
    "plotter.legend(edgecolor='k')\n",
    "plotter.show()\n",
    "print(r)"
   ],
   "metadata": {
    "collapsed": false,
    "ExecuteTime": {
     "end_time": "2024-06-25T00:17:49.233118800Z",
     "start_time": "2024-06-25T00:17:49.131545Z"
    }
   },
   "id": "dc448cbadcd21b66",
   "execution_count": 17
  },
  {
   "cell_type": "code",
   "outputs": [
    {
     "name": "stdout",
     "output_type": "stream",
     "text": [
      "a_1: 0.4038586740483619 \n",
      "a_2: 7.1628473038264895 \n",
      "a_3: 26.52998930787577 \n",
      "a_4: 39.24967506544983 \n",
      "a_5: 16.659159772464204 \n",
      "a_6: 0.2804668999844017 \n"
     ]
    }
   ],
   "source": [
    "print(f'a_1: {np.abs(water_popt[0])} \\n'\n",
    "      f'a_2: {np.abs(water_popt[1]) ** 1/1.5} \\n'\n",
    "      f'a_3: {np.abs(water_popt[2]) ** 1/3} \\n'\n",
    "      f'a_4: {np.abs(water_popt[3]) ** 1/3.5} \\n'\n",
    "      f'a_5: {np.abs(water_popt[4]) ** 1/4} \\n'\n",
    "      f'a_6: {np.abs(water_popt[5]) ** 1/7.5} \\n')"
   ],
   "metadata": {
    "collapsed": false,
    "ExecuteTime": {
     "end_time": "2024-06-22T13:46:35.068307Z",
     "start_time": "2024-06-22T13:46:35.024725500Z"
    }
   },
   "id": "634144b9a3d67b64",
   "execution_count": 72
  },
  {
   "cell_type": "code",
   "outputs": [
    {
     "data": {
      "text/plain": "array([  -0.40385867,  -10.74427096,   79.58996792, -137.37386273,\n         66.63663909,   -2.10350175])"
     },
     "execution_count": 16,
     "metadata": {},
     "output_type": "execute_result"
    }
   ],
   "source": [
    "water_popt"
   ],
   "metadata": {
    "collapsed": false,
    "ExecuteTime": {
     "end_time": "2024-06-25T00:15:47.893463900Z",
     "start_time": "2024-06-25T00:15:47.836687900Z"
    }
   },
   "id": "ef6faf5fc56d5b5d",
   "execution_count": 16
  },
  {
   "cell_type": "markdown",
   "source": [
    "<h3>Plotting gauss expression</h3>"
   ],
   "metadata": {
    "collapsed": false
   },
   "id": "5e6bc3510aa055a5"
  },
  {
   "cell_type": "code",
   "outputs": [],
   "source": [
    "def gauss_expression_of_saturation(x, a_1, a_2):\n",
    "    return x * (a_1 * (1 - 1 / x) ** 2 + a_2 * (1 - 1 / x) ** 4)\n",
    "\n",
    "x = lambda t: critical_temperature / t\n",
    "y = lambda t: np.log(t / critical_pressure)\n",
    "X = lambda t: t / critical_temperature\n",
    "Y = lambda t: np.exp(t) * critical_pressure\n",
    "\n",
    "gauss_popt, gauss_pcov = curve_fit(gauss_expression_of_saturation, x(saturation_temperature), y(saturation_pressure))\n",
    "gauss_x_linspace = np.linspace(min(saturation_temperature), max(saturation_temperature))\n",
    "gauss_y_linspace = Y(gauss_expression_of_saturation(x(gauss_x_linspace), *gauss_popt))\n",
    "\n",
    "fig = plt.figure()\n",
    "plt.scatter(saturation_temperature, saturation_pressure, color='b', label='Experimental data')\n",
    "plt.scatter(critical_temperature, critical_pressure, color='r', label='Critical point')\n",
    "plt.plot(gauss_x_linspace, gauss_y_linspace, '--k', label='Saturation equation')\n",
    "plt.legend()\n",
    "plt.grid(True)\n",
    "plt.show()"
   ],
   "metadata": {
    "collapsed": false,
    "ExecuteTime": {
     "end_time": "2024-06-22T14:33:00.698588800Z",
     "start_time": "2024-06-22T14:33:00.602692900Z"
    }
   },
   "id": "10db8a19e895f3d2",
   "execution_count": 195
  },
  {
   "cell_type": "code",
   "outputs": [
    {
     "data": {
      "text/plain": "array([[ 0.11419108, -0.17969957],\n       [-0.17969957,  0.29066737]])"
     },
     "execution_count": 15,
     "metadata": {},
     "output_type": "execute_result"
    }
   ],
   "source": [
    "gauss_pcov"
   ],
   "metadata": {
    "collapsed": false,
    "ExecuteTime": {
     "end_time": "2024-06-17T14:31:21.027987200Z",
     "start_time": "2024-06-17T14:31:20.979224800Z"
    }
   },
   "id": "db9ad838798384de",
   "execution_count": 15
  },
  {
   "cell_type": "markdown",
   "source": [
    "<h3>Compare experimental data to ideal gas</h3>"
   ],
   "metadata": {
    "collapsed": false
   },
   "id": "48c1a22d8ef9a078"
  },
  {
   "cell_type": "code",
   "outputs": [],
   "source": [
    "Z = pressure * M / (R * temperature)\n",
    "\n",
    "plt.figure(layout='compressed', figsize=(6, 6))\n",
    "plt.scatter(density, Z, s=50, alpha=0.5, color='b', label='Экспериментальные данные')\n",
    "plt.plot([min(density), max(density)], [min(density), max(density)], 'r', label='Уравнение идеального газа')\n",
    "plt.grid(True)\n",
    "plt.xlabel(r'$\\rho$ $(\\dfrac {кг} {м^3})$')\n",
    "plt.ylabel(r'$Z = \\dfrac {p \\mu} {RT}$ $(\\dfrac {кг} {м^3})$')\n",
    "plt.legend()\n",
    "plt.show()\n",
    "plt.savefig(r'D:\\Учеба\\Диплом\\Figures\\compressibiliy_plotted_ideal.png')"
   ],
   "metadata": {
    "collapsed": false,
    "ExecuteTime": {
     "end_time": "2024-06-25T16:51:18.308987Z",
     "start_time": "2024-06-25T16:51:15.739182500Z"
    }
   },
   "id": "104f980a4379728f",
   "execution_count": 5
  },
  {
   "cell_type": "markdown",
   "source": [
    "<h2 align='center'>Van-der-Vaals equation of state</h2>"
   ],
   "metadata": {
    "collapsed": false
   },
   "id": "7688c54635642353"
  },
  {
   "cell_type": "code",
   "outputs": [
    {
     "name": "stdout",
     "output_type": "stream",
     "text": [
      "[7.65566499e-01 2.87309402e-05]\n"
     ]
    }
   ],
   "source": [
    "def van_der_vaals(xy, a, b):\n",
    "    p, d = xy\n",
    "    return (p + a * d ** 2 / M ** 2) * (M / d - b) / R\n",
    "\n",
    "\n",
    "van_der_vaals_popt, van_der_vaals_pcov = curve_fit(van_der_vaals, (pressure, density), temperature)\n",
    "\n",
    "plotter = Plotter(dimension='2d')\n",
    "plotter.scatter(temperature, van_der_vaals((pressure, density), *van_der_vaals_popt))\n",
    "plotter.grid(True)\n",
    "plotter.show()\n",
    "print(van_der_vaals_popt)"
   ],
   "metadata": {
    "collapsed": false,
    "ExecuteTime": {
     "end_time": "2024-06-26T18:44:56.402659100Z",
     "start_time": "2024-06-26T18:44:56.290364500Z"
    }
   },
   "id": "37949316fdee6ef9",
   "execution_count": 40
  },
  {
   "cell_type": "code",
   "outputs": [
    {
     "name": "stdout",
     "output_type": "stream",
     "text": [
      "k_c = 2.666666666666667\n",
      "d_c = 2327.247191802436\n",
      "T_c = 950.075854000435\n"
     ]
    }
   ],
   "source": [
    "a, b = van_der_vaals_popt\n",
    "V_c = 3 * b\n",
    "p_c = a / (27 * b ** 2)\n",
    "T_c = 8 * a / (27 * b * R)\n",
    "d_c = M / (3 * b)\n",
    "print(f'k_c = {R * T_c / (p_c * V_c)}')\n",
    "print(f'd_c = {M / (3 * b)}')\n",
    "print(f'T_c = {T_c}')"
   ],
   "metadata": {
    "collapsed": false,
    "ExecuteTime": {
     "end_time": "2024-06-26T18:44:59.531414200Z",
     "start_time": "2024-06-26T18:44:59.505210700Z"
    }
   },
   "id": "992d45482374c3af",
   "execution_count": 41
  },
  {
   "cell_type": "code",
   "outputs": [],
   "source": [
    "def van_der_vaals_DE(xy, a):\n",
    "    p, d = xy\n",
    "    return (p + a[0] * d ** 2 / M ** 2) * (M / d - a[1]) / R\n",
    "\n",
    "def rmse(a):\n",
    "    pred = van_der_vaals_DE((pressure, density), a)\n",
    "    return np.sqrt(np.sum(pred - temperature) ** 2 / len(temperature))\n",
    "\n",
    "result = list(de(rmse, bounds=[(0, 1), (0, 1e-4)], its=100, popsize=50))\n",
    "args = result[-1][0]\n",
    "\n",
    "plotter = Plotter(dimension='2d')\n",
    "plotter.scatter(temperature, van_der_vaals_DE((pressure, density), args))\n",
    "plotter.xlabel(r'$T_{exp}$')\n",
    "plotter.ylabel(r'$T_{VDV}$')\n",
    "plotter.grid(True)\n",
    "plotter.show()"
   ],
   "metadata": {
    "collapsed": false,
    "ExecuteTime": {
     "end_time": "2024-06-23T15:48:30.473460900Z",
     "start_time": "2024-06-23T15:48:29.864229400Z"
    }
   },
   "id": "aca0c4ad849aacea",
   "execution_count": 8
  },
  {
   "cell_type": "code",
   "outputs": [],
   "source": [
    "def reduced_van_der_vaals(xy):\n",
    "    p, d = xy\n",
    "    return (p + 3 * d ** 2) * (3 / d - 1) / 8\n",
    "\n",
    "r = r_squared(reduced_van_der_vaals([pressure / critical_pressure, density / critical_density]), temperature)\n",
    "r = np.round(r, 4)\n",
    "plt.figure(layout='compressed', figsize=(6, 5))\n",
    "plotter = Plotter(dimension='2d')\n",
    "plotter.scatter(temperature / critical_temperature, reduced_van_der_vaals([pressure / critical_pressure, density / critical_density]), alpha=0.3, color='b', s=50)\n",
    "plotter.plot(\n",
    "    [min(temperature / critical_temperature), max(temperature / critical_temperature)],\n",
    "    [min(temperature / critical_temperature), max(temperature / critical_temperature)],\n",
    "    color='r', label='$y(x)=x$, $R^2=%s$' %r\n",
    ")\n",
    "plotter.xlabel(r'$\\tau_{эксп}$', fontsize=20)\n",
    "plotter.ylabel(r'$\\tau_{ВдВ}$', fontsize=20)\n",
    "plotter.legend()\n",
    "# plotter.grid(True)\n",
    "plotter.plot()"
   ],
   "metadata": {
    "collapsed": false,
    "ExecuteTime": {
     "end_time": "2024-06-26T19:23:09.420784400Z",
     "start_time": "2024-06-26T19:23:09.304940600Z"
    }
   },
   "id": "790fabc0e939c194",
   "execution_count": 48
  },
  {
   "cell_type": "code",
   "outputs": [],
   "source": [
    "density_linspace = np.linspace(min(density), max(density))\n",
    "pressure_linspace = np.linspace(min(pressure), max(pressure))\n",
    "density_linspace, pressure_linspace = np.meshgrid(density_linspace, pressure_linspace)\n",
    "temperature_linspace = reduced_van_der_vaals([pressure_linspace / critical_pressure, density_linspace / critical_density]) * critical_temperature\n",
    "mask = (temperature_linspace < max(temperature)) & (temperature_linspace > min(temperature))\n",
    "\n",
    "r = r_squared(reduced_van_der_vaals([pressure / critical_pressure, density / critical_density]) * critical_temperature, temperature)\n",
    "r = np.round(r, 4)\n",
    "fig = plt.figure(figsize=(10, 9), layout='compressed')\n",
    "ax = plt.axes(projection='3d')\n",
    "ax.scatter(temperature, pressure, density, label='Экспериментальные данные', color='#333333', s=40)\n",
    "tri = ax.plot_trisurf(\n",
    "    temperature_linspace[mask], pressure_linspace[mask], density_linspace[mask], cmap='jet', label='Уравнение состояния Ван-дер-Ваальса \\n$R^2=%s$' %r\n",
    ")\n",
    "ax.set_xlabel(r'$T$ $(K)$', labelpad=12, fontsize=20)\n",
    "ax.set_ylabel(r'$p$ $(Па)$', labelpad=12, fontsize=20)\n",
    "ax.set_zlabel(r'$\\rho$ $(кг/м^3)$', labelpad=12, fontsize=20)\n",
    "cbar = plt.colorbar(tri, ax=ax, shrink=0.75, pad=0.15)\n",
    "cbar.set_label(r'$\\rho$ $(кг/м^3)$', fontsize=20)\n",
    "plt.show()\n",
    "plt.legend(fontsize=20, loc='best')\n",
    "plt.savefig(r'D:\\Учеба\\Диплом\\Figures\\Van-der-vaals-plotted.png')"
   ],
   "metadata": {
    "collapsed": false,
    "ExecuteTime": {
     "end_time": "2024-06-26T19:47:38.174407500Z",
     "start_time": "2024-06-26T19:47:36.878638600Z"
    }
   },
   "id": "df7a1dfd5019ae13",
   "execution_count": 70
  },
  {
   "cell_type": "code",
   "outputs": [],
   "source": [
    "%matplotlib qt"
   ],
   "metadata": {
    "collapsed": false,
    "ExecuteTime": {
     "end_time": "2024-06-17T17:00:03.022098200Z",
     "start_time": "2024-06-17T17:00:00.978590700Z"
    }
   },
   "id": "d1a8d2efa8ac9f58",
   "execution_count": 17
  },
  {
   "cell_type": "code",
   "outputs": [
    {
     "data": {
      "text/plain": "1610"
     },
     "execution_count": 98,
     "metadata": {},
     "output_type": "execute_result"
    }
   ],
   "source": [
    "len(density_linspace[mask])"
   ],
   "metadata": {
    "collapsed": false,
    "ExecuteTime": {
     "end_time": "2024-06-17T17:43:13.270979800Z",
     "start_time": "2024-06-17T17:43:13.244863400Z"
    }
   },
   "id": "ee583b83767b5c88",
   "execution_count": 98
  },
  {
   "cell_type": "code",
   "outputs": [],
   "source": [
    "fig = plt.figure(figsize=(7, 6), layout='compressed')\n",
    "ax = plt.axes(projection='3d')\n",
    "ax.plot_trisurf(temperature, pressure, density, cmap='inferno')\n",
    "plt.show()"
   ],
   "metadata": {
    "collapsed": false,
    "ExecuteTime": {
     "end_time": "2024-06-17T17:49:50.562403400Z",
     "start_time": "2024-06-17T17:49:50.427783300Z"
    }
   },
   "id": "61c5d758c885903e",
   "execution_count": 112
  },
  {
   "cell_type": "code",
   "outputs": [],
   "source": [],
   "metadata": {
    "collapsed": false
   },
   "id": "15c109ead198293"
  },
  {
   "cell_type": "markdown",
   "source": [
    "<h2 align='center'>Viral equation of state</h2>"
   ],
   "metadata": {
    "collapsed": false
   },
   "id": "ab6b857292d65596"
  },
  {
   "cell_type": "markdown",
   "source": [
    "<h3>Plotting second viral coefficient</h3>"
   ],
   "metadata": {
    "collapsed": false
   },
   "id": "8428de11c0345094"
  },
  {
   "cell_type": "code",
   "outputs": [],
   "source": [
    "def viral_equation(x, a):\n",
    "    return x + a * x ** 2\n",
    "\n",
    "B, B_temperature, B_error = [], [], []\n",
    "for temp in temperature_set:\n",
    "    mask = (temperature == temp)\n",
    "    density_temp = density[mask]\n",
    "    pressure_temp = pressure[mask]\n",
    "    temperature_temp = temperature[mask]\n",
    "    Z_temp = pressure_temp * M / (R * temperature_temp)\n",
    "\n",
    "    if len(Z_temp) < 16:\n",
    "        continue\n",
    "\n",
    "    fit = curve_fit(viral_equation, density_temp, Z_temp)\n",
    "    B.append(fit[0][0])\n",
    "    B_error.append(r_squared(Z_temp, viral_equation(density_temp, *fit[0])))\n",
    "    B_temperature.append(temp)\n",
    "\n",
    "B = np.array(B)\n",
    "B_temperature = np.array(B_temperature)\n",
    "index = np.lexsort((B, B_temperature))\n",
    "B, B_temperature = B[index], B_temperature[index]"
   ],
   "metadata": {
    "collapsed": false,
    "ExecuteTime": {
     "end_time": "2024-06-23T15:57:37.329459Z",
     "start_time": "2024-06-23T15:57:37.298545700Z"
    }
   },
   "id": "903a35300424ec6e",
   "execution_count": 23
  },
  {
   "cell_type": "code",
   "outputs": [
    {
     "ename": "NameError",
     "evalue": "name 'B_temperature' is not defined",
     "output_type": "error",
     "traceback": [
      "\u001B[1;31m---------------------------------------------------------------------------\u001B[0m",
      "\u001B[1;31mNameError\u001B[0m                                 Traceback (most recent call last)",
      "Cell \u001B[1;32mIn[71], line 2\u001B[0m\n\u001B[0;32m      1\u001B[0m plt\u001B[38;5;241m.\u001B[39mfigure(layout\u001B[38;5;241m=\u001B[39m\u001B[38;5;124m'\u001B[39m\u001B[38;5;124mcompressed\u001B[39m\u001B[38;5;124m'\u001B[39m, figsize\u001B[38;5;241m=\u001B[39m(\u001B[38;5;241m7\u001B[39m, \u001B[38;5;241m6\u001B[39m))\n\u001B[1;32m----> 2\u001B[0m plt\u001B[38;5;241m.\u001B[39mscatter(\u001B[43mB_temperature\u001B[49m, B, color\u001B[38;5;241m=\u001B[39m\u001B[38;5;124m'\u001B[39m\u001B[38;5;124mb\u001B[39m\u001B[38;5;124m'\u001B[39m, label\u001B[38;5;241m=\u001B[39m\u001B[38;5;124m'\u001B[39m\u001B[38;5;124mЭкспериментальные данные\u001B[39m\u001B[38;5;124m'\u001B[39m)\n\u001B[0;32m      3\u001B[0m plt\u001B[38;5;241m.\u001B[39mgrid(\u001B[38;5;28;01mTrue\u001B[39;00m)\n\u001B[0;32m      4\u001B[0m plt\u001B[38;5;241m.\u001B[39mxlabel(\u001B[38;5;124mr\u001B[39m\u001B[38;5;124m'\u001B[39m\u001B[38;5;124m$T (K)$\u001B[39m\u001B[38;5;124m'\u001B[39m)\n",
      "\u001B[1;31mNameError\u001B[0m: name 'B_temperature' is not defined"
     ]
    }
   ],
   "source": [
    "plt.figure(layout='compressed', figsize=(7, 6))\n",
    "plt.scatter(B_temperature, B, color='b', label='Экспериментальные данные')\n",
    "plt.grid(True)\n",
    "plt.xlabel(r'$T (K)$')\n",
    "plt.ylabel(r'$B_2(T)$')\n",
    "plt.legend()\n",
    "plt.show()"
   ],
   "metadata": {
    "collapsed": false,
    "ExecuteTime": {
     "end_time": "2024-06-26T21:33:42.840821300Z",
     "start_time": "2024-06-26T21:33:42.441908100Z"
    }
   },
   "id": "dc26a6fbf7a94dbd",
   "execution_count": 71
  },
  {
   "cell_type": "code",
   "outputs": [],
   "source": [
    "plt.figure(layout='compressed', figsize=(6, 6))\n",
    "plotter = Plotter(dimension='2d')\n",
    "for temp in B_temperature:\n",
    "    mask = (temp == temperature)\n",
    "    B_index = (temp == B_temperature)\n",
    "    B_pressure = viral_equation(density[mask], *B[B_index]) * R * temperature[mask] / M\n",
    "    plotter.scatter(pressure[mask], B_pressure, color='b', s=50)\n",
    "plotter.plot([np.min(pressure), np.max(pressure)], [np.min(pressure), np.max(pressure)], color='r')\n",
    "plt.annotate(\n",
    "    '$y(x)=x$',\n",
    "    xy=(1e7, 1e7), xytext=(1.25e7, 0.75e7), arrowprops={'facecolor': 'black', 'shrink' : 0.05}\n",
    ")\n",
    "plotter.grid(True)\n",
    "plotter.legend(['Экспериментальные данные'], edgecolor='k')\n",
    "plotter.xlabel(r'$p_{эксп}$')\n",
    "plotter.ylabel(r'$p_{вир}$')\n",
    "plotter.show()"
   ],
   "metadata": {
    "collapsed": false,
    "ExecuteTime": {
     "end_time": "2024-06-23T16:05:21.802181400Z",
     "start_time": "2024-06-23T16:05:21.559743700Z"
    }
   },
   "id": "b266c5ae62636035",
   "execution_count": 42
  },
  {
   "cell_type": "code",
   "outputs": [],
   "source": [],
   "metadata": {
    "collapsed": false
   },
   "id": "d5907154c4b32364"
  },
  {
   "cell_type": "markdown",
   "source": [
    "<h3>Van - der - Vaals second viral coefficient</h3>"
   ],
   "metadata": {
    "collapsed": false
   },
   "id": "fedce89f7c24aab2"
  },
  {
   "cell_type": "code",
   "outputs": [],
   "source": [
    "def van_der_vaals_second_viral(x):\n",
    "    return R * critical_temperature / (8 * critical_pressure * x) * (x - 27 / 8 * critical_temperature)\n",
    "\n",
    "B_temperature_linspace = np.linspace(min(B_temperature), max(B_temperature))\n",
    "B_linspace = van_der_vaals_second_viral(B_temperature_linspace)\n",
    "plt.figure(layout='compressed', figsize=(9, 8))\n",
    "plt.scatter(B_temperature, B, label='Экспериментальные данные', color='b', s=50)\n",
    "plt.plot(B_temperature_linspace, B_linspace, 'r', label='Вириальный коэффициент Ван - дер - Вальса')\n",
    "plt.legend(edgecolor='k')\n",
    "plt.xlabel(r'$T (K)$', fontsize=22)\n",
    "plt.ylabel(r'$B_2(T)$', fontsize=22)\n",
    "plt.grid(True)\n",
    "plt.show()"
   ],
   "metadata": {
    "collapsed": false,
    "ExecuteTime": {
     "end_time": "2024-06-23T17:19:00.094741400Z",
     "start_time": "2024-06-23T17:18:59.962440500Z"
    }
   },
   "id": "ff45a808bad3d2d8",
   "execution_count": 76
  },
  {
   "cell_type": "code",
   "outputs": [],
   "source": [
    "viral_temperature = np.linspace(min(temperature), max(temperature))\n",
    "viral_density = np.linspace(min(density), max(density))\n",
    "viral_temperature, viral_density = np.meshgrid(viral_temperature, viral_density)\n",
    "viral_pressure = R * viral_temperature / M * viral_equation(viral_density, van_der_vaals_second_viral(viral_temperature))\n",
    "\n",
    "r = r_squared(R * temperature / M * viral_equation(density, van_der_vaals_second_viral(temperature)), pressure)\n",
    "r = np.round(r, 4)\n",
    "plt.figure(layout='compressed', figsize=(9, 8))\n",
    "ax = plt.axes(projection='3d')\n",
    "ax.scatter(temperature, pressure, density, label='Экспериментальные данные', s=50)\n",
    "surface = ax.plot_surface(viral_temperature, viral_pressure, viral_density, cmap='jet', alpha=0.5, label='Вириальное уравнение состояния $R^2=%s$' %r)\n",
    "ax.set_xlabel(r'$T$ $(K)$', labelpad=10, fontsize=18)\n",
    "ax.set_ylabel(r'$p$ $(Па)$', labelpad=10, fontsize=18)\n",
    "ax.set_zlabel(r'$\\rho$ $(\\dfrac {кг} {м^3})$', labelpad=12, fontsize=18)\n",
    "plt.colorbar(surface, ax=ax, label=r'$\\rho$ $(\\dfrac {кг} {м^3})$', shrink=0.75, pad=0.15)\n",
    "plt.legend(edgecolor='k')\n",
    "plt.show()"
   ],
   "metadata": {
    "collapsed": false,
    "ExecuteTime": {
     "end_time": "2024-06-23T19:51:18.784998200Z",
     "start_time": "2024-06-23T19:51:18.390579Z"
    }
   },
   "id": "3e3f4b3dc0d5bd7b",
   "execution_count": 89
  },
  {
   "cell_type": "code",
   "outputs": [],
   "source": [],
   "metadata": {
    "collapsed": false
   },
   "id": "83a7a8c19245497b"
  }
 ],
 "metadata": {
  "kernelspec": {
   "display_name": "Python 3",
   "language": "python",
   "name": "python3"
  },
  "language_info": {
   "codemirror_mode": {
    "name": "ipython",
    "version": 2
   },
   "file_extension": ".py",
   "mimetype": "text/x-python",
   "name": "python",
   "nbconvert_exporter": "python",
   "pygments_lexer": "ipython2",
   "version": "2.7.6"
  }
 },
 "nbformat": 4,
 "nbformat_minor": 5
}
