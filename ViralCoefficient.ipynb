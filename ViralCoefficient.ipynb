{
 "cells": [
  {
   "cell_type": "code",
   "execution_count": 1,
   "id": "initial_id",
   "metadata": {
    "collapsed": true,
    "ExecuteTime": {
     "end_time": "2024-06-26T21:22:04.468619700Z",
     "start_time": "2024-06-26T21:21:59.296250900Z"
    }
   },
   "outputs": [],
   "source": [
    "import matplotlib.pyplot as plt\n",
    "from matplotlib import cm\n",
    "import numpy as np\n",
    "import pandas as pd\n",
    "import requests\n",
    "from scipy.integrate import quad\n",
    "from scipy.optimize import curve_fit, minimize\n",
    "\n",
    "from src.maths.Error import r_squared\n",
    "from src.network.Genetic import de\n",
    "from src.plotter.Plotter import Plotter"
   ]
  },
  {
   "cell_type": "code",
   "outputs": [],
   "source": [
    "data = requests.get('http://v5464.hosted-by-vdsina.com:8000/science/phases/?format=json&limit=1000').json()['results']\n",
    "temperature = np.array([dat['temperature'] for dat in data], dtype=np.float32)\n",
    "pressure = np.array([dat['pressure'] for dat in data], dtype=np.float32)\n",
    "density = np.array([dat['density'] for dat in data], dtype=np.float32)\n",
    "\n",
    "sort_mask = np.lexsort((temperature, pressure, density))\n",
    "temperature = temperature[sort_mask]\n",
    "pressure = pressure[sort_mask]\n",
    "density = density[sort_mask]\n",
    "\n",
    "saturation_data = \\\n",
    "requests.get('http://v5464.hosted-by-vdsina.com:8000/science/saturations/?format=json&limit=81&offset=81').json()[\n",
    "    'results']\n",
    "saturation_temperature = np.array([dat['temperature'] for dat in saturation_data])\n",
    "saturation_pressure = np.array([dat['pressure'] for dat in saturation_data])\n",
    "saturation_density = np.array([dat['density'] for dat in saturation_data])\n",
    "sort_mask = np.lexsort((saturation_temperature, saturation_pressure, saturation_density))\n",
    "saturation_temperature = saturation_temperature[sort_mask]\n",
    "saturation_pressure = saturation_pressure[sort_mask]\n",
    "saturation_density = saturation_density[sort_mask]\n",
    "\n",
    "linearized_temperature = (temperature - min(temperature)) / (max(temperature) - min(temperature))\n",
    "linearized_pressure = (pressure - min(pressure)) / (max(pressure) - min(pressure))\n",
    "linearized_density = (density - min(density)) / (max(density) - min(density))"
   ],
   "metadata": {
    "collapsed": false,
    "ExecuteTime": {
     "end_time": "2024-06-26T21:22:05.536249100Z",
     "start_time": "2024-06-26T21:22:04.477130500Z"
    }
   },
   "id": "4da426ca2fb1f302",
   "execution_count": 2
  },
  {
   "cell_type": "code",
   "outputs": [],
   "source": [
    "M = 200.592e-3\n",
    "R = 8.31\n",
    "N_a = 6e24\n",
    "\n",
    "critical_temperature = 1490 + 273.15\n",
    "critical_pressure = 1510e5\n",
    "critical_density = 5500\n",
    "\n",
    "temperature_set = np.array(list(set(temperature)), dtype=np.float32)\n",
    "temperature_set.sort()\n",
    "\n",
    "pressure_set = np.array(list(set(pressure)), dtype=np.float32)\n",
    "pressure_set.sort()\n",
    "\n",
    "density_set = np.array(list(set(density)), dtype=np.float32)\n",
    "density_set.sort()"
   ],
   "metadata": {
    "collapsed": false,
    "ExecuteTime": {
     "end_time": "2024-06-26T21:22:05.552829400Z",
     "start_time": "2024-06-26T21:22:05.541310400Z"
    }
   },
   "id": "c9545783495b24a1",
   "execution_count": 3
  },
  {
   "cell_type": "code",
   "outputs": [],
   "source": [
    "plt.rcParams.update({'font.size' : 16})\n",
    "%matplotlib qt"
   ],
   "metadata": {
    "collapsed": false,
    "ExecuteTime": {
     "end_time": "2024-06-26T21:22:06.526103100Z",
     "start_time": "2024-06-26T21:22:05.551330700Z"
    }
   },
   "id": "49f2465a9ce8fdbb",
   "execution_count": 4
  },
  {
   "cell_type": "code",
   "outputs": [
    {
     "name": "stdout",
     "output_type": "stream",
     "text": [
      "[-5.01585148e-01  4.44924300e+00  1.70407337e-04]\n"
     ]
    }
   ],
   "source": [
    "def viral_equation(x, a):\n",
    "    return x + a * x ** 2\n",
    "\n",
    "\n",
    "def known_fit_function(x):\n",
    "    return -1.793e-2 / (x / 100) + 2.51e-2 / (x / 100) ** 2 + 1.071e-3\n",
    "\n",
    "\n",
    "def fit_function(x, a, b, c):\n",
    "    return a / x + b / x ** 2 + c\n",
    "\n",
    "\n",
    "def fit_function_derivative(x, a, b, c):\n",
    "    return -2 * a / x ** 3 - 3 * b / x ** 4\n",
    "\n",
    "\n",
    "def fit_function_boyle(x, a, b, c):\n",
    "    return c * x ** 3 + a * x + b\n",
    "\n",
    "\n",
    "B, B_temperature, B_error = [], [], []\n",
    "for temp in temperature_set:\n",
    "    mask = (temperature == temp)\n",
    "    density_temp = density[mask]\n",
    "    pressure_temp = pressure[mask]\n",
    "    temperature_temp = temperature[mask]\n",
    "    Z_temp = pressure_temp * M / (R * temperature_temp)\n",
    "\n",
    "    if len(Z_temp) < 16:\n",
    "        continue\n",
    "\n",
    "    fit = curve_fit(viral_equation, density_temp, Z_temp)\n",
    "    B.append(fit[0][0])\n",
    "    B_error.append(r_squared(Z_temp, viral_equation(density_temp, *fit[0])))\n",
    "    B_temperature.append(temp)\n",
    "\n",
    "B = np.array(B)\n",
    "B_temperature = np.array(B_temperature)\n",
    "index = np.lexsort((B, B_temperature))\n",
    "B, B_temperature = B[index], B_temperature[index]\n",
    "fit_popt, fit_pcov = curve_fit(fit_function, B_temperature, B)\n",
    "print(fit_popt)\n",
    "\n",
    "B_temperature_linspace = np.linspace(np.min(B_temperature), np.max(B_temperature), 1000)\n",
    "B_linspace = fit_function(B_temperature_linspace, *fit_popt)"
   ],
   "metadata": {
    "collapsed": false,
    "ExecuteTime": {
     "end_time": "2024-06-26T21:22:08.765902300Z",
     "start_time": "2024-06-26T21:22:08.663327900Z"
    }
   },
   "id": "dae80ee2e9720d1d",
   "execution_count": 5
  },
  {
   "cell_type": "code",
   "outputs": [
    {
     "name": "stdout",
     "output_type": "stream",
     "text": [
      "[-58.3160306  -19.30768753  58.31620114 -19.31167749  -0.7378304 ]\n"
     ]
    }
   ],
   "source": [
    "# def second_viral(x, a=None, b=None):\n",
    "#     return R * critical_temperature / (8 * critical_pressure * x) * (x - 27 / 8 * critical_temperature)\n",
    "\n",
    "# def second_viral(x, a=None):\n",
    "#     return 27 / 64 * R * critical_temperature ** 2 / critical_pressure * (1 - 27 / 8 * 1 / x)\n",
    "\n",
    "def coeff(x, a, b, c, d, e, f):\n",
    "    return a * np.exp(-b / x) + c * np.exp(-d / x) + e / x + f / x ** 2\n",
    "\n",
    "\n",
    "boyle_temperature = 27 / 8 * critical_temperature\n",
    "\n",
    "\n",
    "def second_viral(x, a, b, c, d, e):\n",
    "    return a * np.exp(-b / x) + c * np.exp(-d / x) + e / x\n",
    "\n",
    "\n",
    "def second_viral_dev(x, a, b, c, d, e):\n",
    "    return a * b / x ** 2 * np.exp(-b / x) + c * d / x ** 2 * np.exp(-d / x) - e / x ** 2\n",
    "\n",
    "\n",
    "def second_viral_dev2(x, a, b, c, d, e):\n",
    "    return (-2 * a * b / x ** 3 + a * b ** 2 / x ** 4) * np.exp(-b / x) + (-2 * c * d / x ** 3 + c * d ** 2 / x ** 4) * np.exp(-d / x) + 2 * e / x ** 3\n",
    "\n",
    "\n",
    "second_viral_popt, second_viral_pcov = curve_fit(second_viral, B_temperature, B, maxfev=5000)\n",
    "print(second_viral_popt)\n",
    "\n",
    "second_viral_error = r_squared(B, second_viral(B_temperature, *second_viral_popt))\n",
    "second_viral_error = np.round(second_viral_error, 4)\n",
    "\n",
    "plt.figure(layout='compressed', figsize=(7, 6))\n",
    "plotter = Plotter(dimension='2d')\n",
    "plotter.scatter(B_temperature, B, label='Экспериментальные данные', s=50, color='b')\n",
    "# plotter.plot(\n",
    "#     B_temperature_linspace, second_viral(B_temperature_linspace, *second_viral_popt),\n",
    "#     label=rf'Fit function $R^2={second_viral_error}$', color='r'\n",
    "# )\n",
    "# plotter.plot(B_temperature_linspace, B_linspace)\n",
    "# plotter.plot(B_temperature_linspace, known_fit_function(B_temperature_linspace))\n",
    "plotter.xlabel(r'$T$ $(K)$')\n",
    "plotter.ylabel(r'$B_2 (T)$')\n",
    "plotter.legend()\n",
    "plotter.grid(True)\n",
    "plotter.show()"
   ],
   "metadata": {
    "collapsed": false,
    "ExecuteTime": {
     "end_time": "2024-06-26T21:22:13.328320100Z",
     "start_time": "2024-06-26T21:22:12.483902100Z"
    }
   },
   "id": "484b80340cd99bf3",
   "execution_count": 6
  },
  {
   "cell_type": "code",
   "outputs": [],
   "source": [
    "viral_temperature = np.linspace(min(temperature), max(temperature))\n",
    "viral_density = np.linspace(min(density), max(density))\n",
    "viral_temperature, viral_density = np.meshgrid(viral_temperature, viral_density)\n",
    "viral_pressure = R * viral_temperature / M * viral_equation(viral_density, second_viral(viral_temperature, *second_viral_popt))\n",
    "\n",
    "\n",
    "r = r_squared(R * temperature / M * viral_equation(density, second_viral(temperature, *second_viral_popt)), pressure)\n",
    "r = np.round(r, 5)\n",
    "\n",
    "plt.rcParams.update({'font.size' : 16})\n",
    "plt.figure(layout='compressed', figsize=(9, 8))\n",
    "ax = plt.axes(projection='3d')\n",
    "ax.scatter(temperature, pressure, density, label='Экспериментальные данные', s=50, color='b')\n",
    "surface = ax.plot_surface(viral_temperature, viral_pressure, viral_density, cmap='jet', alpha=0.5, label='Вириальное уравнение состояния $R^2=%s$' %r)\n",
    "ax.set_xlabel(r'$T$ $(K)$', labelpad=10, fontsize=18)\n",
    "ax.set_ylabel(r'$p$ $(Па)$', labelpad=10, fontsize=18)\n",
    "ax.set_zlabel(r'$\\rho$ $(\\dfrac {кг} {м^3})$', labelpad=12, fontsize=18)\n",
    "plt.colorbar(surface, ax=ax, label=r'$\\rho (\\dfrac {кг} {м^3})$', shrink=0.75, pad=0.15)\n",
    "plt.legend()\n",
    "plt.show()"
   ],
   "metadata": {
    "collapsed": false,
    "ExecuteTime": {
     "end_time": "2024-06-26T21:22:17.880896600Z",
     "start_time": "2024-06-26T21:22:17.538858900Z"
    }
   },
   "id": "bf35f67584650e7f",
   "execution_count": 7
  },
  {
   "cell_type": "code",
   "outputs": [
    {
     "name": "stdout",
     "output_type": "stream",
     "text": [
      "1.2128954056291392e-05\n"
     ]
    }
   ],
   "source": [
    "print(R * critical_temperature / (critical_pressure * 8))"
   ],
   "metadata": {
    "collapsed": false,
    "ExecuteTime": {
     "end_time": "2024-06-23T17:20:40.290694500Z",
     "start_time": "2024-06-23T17:20:40.212497Z"
    }
   },
   "id": "1b5c1d5fc1491a48",
   "execution_count": 20
  },
  {
   "cell_type": "code",
   "outputs": [],
   "source": [
    "Z = pressure * M / (R * temperature)\n",
    "\n",
    "Z_viral = viral_equation(density, second_viral(temperature, *second_viral_popt))\n",
    "viral_error = r_squared(Z_viral, Z)\n",
    "viral_error = np.round(viral_error, 6)\n",
    "\n",
    "plotter = Plotter(dimension='2d')\n",
    "plotter.scatter(density, Z, alpha=0.5, label='Experimental data')\n",
    "plotter.scatter(density, Z_viral, alpha=0.5, label=rf'Viral equation of state $R^2={viral_error}$')\n",
    "plotter.grid(True)\n",
    "plotter.legend()\n",
    "plotter.xlabel(r'$\\rho (kg/m^3)$')\n",
    "plotter.ylabel(r'$\\frac {p \\mu} {RT} (kg/m^3)$')\n",
    "plotter.show()"
   ],
   "metadata": {
    "collapsed": false,
    "ExecuteTime": {
     "end_time": "2024-06-26T21:30:45.390589800Z",
     "start_time": "2024-06-26T21:30:45.324300900Z"
    }
   },
   "id": "42a2d22f8cac2295",
   "execution_count": 27
  },
  {
   "cell_type": "code",
   "outputs": [],
   "source": [
    "plotter = Plotter(dimension='2d')\n",
    "for temp in B_temperature:\n",
    "    mask = (temp == temperature)\n",
    "    B_index = (temp == B_temperature)\n",
    "    B_pressure = viral_equation(density[mask], *B[B_index]) * R * temperature[mask] / M\n",
    "    plotter.scatter(pressure[mask], B_pressure, color='b')\n",
    "plotter.plot([np.min(pressure), np.max(pressure)], [np.min(pressure), np.max(pressure)], label='y(x)=x', color='r')\n",
    "plotter.plot()\n",
    "plotter.grid(True)\n",
    "plotter.legend()\n",
    "plotter.xlabel(r'$p_{exp}$')\n",
    "plotter.ylabel(r'$p_{viral}$')\n",
    "plotter.show()"
   ],
   "metadata": {
    "collapsed": false,
    "ExecuteTime": {
     "end_time": "2024-06-26T21:22:25.826047700Z",
     "start_time": "2024-06-26T21:22:25.663176900Z"
    }
   },
   "id": "c6f24651856a3e8",
   "execution_count": 9
  },
  {
   "cell_type": "code",
   "outputs": [
    {
     "name": "stdout",
     "output_type": "stream",
     "text": [
      "[-4.11092838e+02  6.97679861e+07  1.63481286e-05]\n"
     ]
    }
   ],
   "source": [
    "def fit_second_viral(x, a, b, c):\n",
    "    return a / x ** 2 + b / x ** 4 + c\n",
    "\n",
    "def fit_second_viral_dev(x, a, b, c):\n",
    "    return -2 * a / x ** 3 - 4 * b / x ** 5\n",
    "\n",
    "def fit_second_viral_dev2(x, a, b, c):\n",
    "    return 6 * a / x ** 4 + 20 * b / x ** 6\n",
    "\n",
    "fit_second_viral_popt, fit_second_viral_pcov = curve_fit(fit_second_viral, B_temperature, B)\n",
    "r = r_squared(fit_second_viral(B_temperature, *fit_second_viral_popt), B)\n",
    "r = np.round(r, 4)\n",
    "\n",
    "plt.figure(layout='compressed', figsize=(7, 6))\n",
    "plotter = Plotter(dimension='2d')\n",
    "plotter.scatter(B_temperature, B, color='b', label='$B_2$, вычисленный из аппроксимации', s=50)\n",
    "plotter.plot(\n",
    "    B_temperature_linspace, fit_second_viral(B_temperature_linspace, *fit_second_viral_popt), \n",
    "    color='r', label=rf'$B_2(T)$, $R^2={r}$'\n",
    ")\n",
    "plotter.legend()\n",
    "plotter.xlabel(r'$T$ $(K)$', fontsize=20)\n",
    "plotter.ylabel(r'$B_2(T)$', fontsize=20)\n",
    "# plotter.grid(True)\n",
    "plotter.show()\n",
    "print(fit_second_viral_popt)"
   ],
   "metadata": {
    "collapsed": false,
    "ExecuteTime": {
     "end_time": "2024-06-26T21:34:02.309737800Z",
     "start_time": "2024-06-26T21:34:02.042489400Z"
    }
   },
   "id": "a4eed578fb78c35b",
   "execution_count": 30
  },
  {
   "cell_type": "code",
   "outputs": [],
   "source": [
    "viral_temperature = np.linspace(min(temperature), max(temperature))\n",
    "viral_density = np.linspace(min(density), max(density))\n",
    "viral_temperature, viral_density = np.meshgrid(viral_temperature, viral_density)\n",
    "viral_pressure = R * viral_temperature / M * viral_equation(viral_density, fit_second_viral(viral_temperature, *fit_second_viral_popt))\n",
    "\n",
    "r = r_squared(R * temperature / M * viral_equation(density, fit_second_viral(temperature, *fit_second_viral_popt)), pressure)\n",
    "r = np.round(r, 6)\n",
    "plt.figure(layout='compressed', figsize=(9, 8))\n",
    "ax = plt.axes(projection='3d')\n",
    "ax.scatter(temperature, pressure, density, label='Экспериментальные данные', s=50, c='#333333')\n",
    "surface = ax.plot_surface(viral_temperature, viral_pressure+1e5, viral_density, cmap='jet', alpha=1, label='Вириальное уравнение состояния $R^2=%s$' %r)\n",
    "ax.set_xlabel(r'$T$ $(K)$', labelpad=12, fontsize=20)\n",
    "ax.set_ylabel(r'$p$ $(Па)$', labelpad=12, fontsize=20)\n",
    "ax.set_zlabel(r'$\\rho$ $(кг/м^3)$', labelpad=12, fontsize=20)\n",
    "cbar = plt.colorbar(surface, ax=ax, shrink=0.75, pad=0.15)\n",
    "cbar.set_label(r'$\\rho$ $(кг/м^3)$', fontsize=20)\n",
    "plt.legend(edgecolor='k')\n",
    "plt.show()"
   ],
   "metadata": {
    "collapsed": false,
    "ExecuteTime": {
     "end_time": "2024-06-26T21:45:35.998261800Z",
     "start_time": "2024-06-26T21:45:35.684458500Z"
    }
   },
   "id": "69204b43e550e9c8",
   "execution_count": 52
  },
  {
   "cell_type": "code",
   "outputs": [],
   "source": [
    "Z = pressure * M / (R * temperature)\n",
    "\n",
    "Z_viral = viral_equation(density, fit_second_viral(temperature, *fit_second_viral_popt))\n",
    "viral_error = r_squared(Z_viral, Z)\n",
    "viral_error = np.round(viral_error, 6)\n",
    "p_viral = Z_viral * R * temperature / M\n",
    "\n",
    "plt.figure(layout='compressed', figsize=(7, 6))\n",
    "plt.scatter(pressure, p_viral, color='b', label='Экспериментальные данные')\n",
    "plt.plot([min(pressure), max(pressure)], [min(pressure), max(pressure)], 'r', label='y(x)=x')\n",
    "plt.xlabel('$p_{эксп}$')\n",
    "plt.ylabel('$p_{вир}$')\n",
    "plt.grid(True)\n",
    "plt.legend()\n",
    "plt.show()\n",
    "\n",
    "# plotter = Plotter(dimension='2d')\n",
    "# plotter.scatter(density, Z, alpha=0.5, label='Experimental data')\n",
    "# plotter.scatter(density, Z_viral, alpha=0.5, label=rf'Viral equation of state $R^2={viral_error}$')\n",
    "# plotter.grid(True)\n",
    "# plotter.legend()\n",
    "# plotter.xlabel(r'$\\rho (kg/m^3)$')\n",
    "# plotter.ylabel(r'$\\frac {p \\mu} {RT} (kg/m^3)$')\n",
    "# plotter.show()"
   ],
   "metadata": {
    "collapsed": false,
    "ExecuteTime": {
     "end_time": "2024-06-25T21:28:14.417292100Z",
     "start_time": "2024-06-25T21:28:14.240841700Z"
    }
   },
   "id": "d1972c79369be81e",
   "execution_count": 28
  },
  {
   "cell_type": "code",
   "outputs": [],
   "source": [
    "temperature_linspace = np.linspace(min(temperature), max(temperature))\n",
    "pressure_linspace = np.linspace(min(pressure), max(pressure))\n",
    "temperature_linpspace, pressure_linspace = np.meshgrid(temperature_linspace, pressure_linspace)\n",
    "volume = R * temperature / pressure - 1.793e-2*(100/temperature) + 2.51e-2*(100/temperature) ** 2 + 1.071e-3\n",
    "volume_linspace = R * temperature_linspace / pressure_linspace - 1.793e-2*(100/temperature_linspace) + 2.51e-2*(100/temperature_linspace) ** 2 + 1.071e-3\n",
    "\n",
    "plt.figure(layout='compressed', figsize=(6, 6))\n",
    "ax = plt.axes(projection='3d')\n",
    "ax.scatter(temperature, pressure, density, color='b')\n",
    "ax.plot_surface(temperature_linpspace, pressure_linspace, 0.2/volume_linspace, color='r')\n",
    "plt.show()"
   ],
   "metadata": {
    "collapsed": false,
    "ExecuteTime": {
     "end_time": "2024-06-26T22:38:17.263366200Z",
     "start_time": "2024-06-26T22:38:17.000159200Z"
    }
   },
   "id": "555cd2596fee276c",
   "execution_count": 64
  },
  {
   "cell_type": "code",
   "outputs": [],
   "source": [
    "%matplotlib qt"
   ],
   "metadata": {
    "collapsed": false,
    "ExecuteTime": {
     "end_time": "2024-06-17T21:43:27.273456800Z",
     "start_time": "2024-06-17T21:43:27.133880400Z"
    }
   },
   "id": "45fc13c301a8e73e",
   "execution_count": 10
  },
  {
   "cell_type": "code",
   "outputs": [],
   "source": [
    "viral_temperature_linspace = np.linspace(min(temperature), max(temperature), 50)\n",
    "viral_density_linspace = np.linspace(min(density), max(density), 50)\n",
    "viral_temperature_linspace, viral_density_linspace = np.meshgrid(viral_temperature_linspace, viral_density_linspace)\n",
    "viral_pressure_linspace = R * viral_temperature_linspace / M * (viral_density_linspace + fit_second_viral(viral_temperature_linspace, *fit_second_viral_popt) * viral_density_linspace ** 2)\n",
    "\n",
    "r = r_squared(viral_equation(density, fit_second_viral(temperature, *fit_second_viral_popt)) * R * temperature / M, pressure)\n",
    "r = np.round(r, 6)\n",
    "\n",
    "fig = plt.figure()\n",
    "ax = plt.axes(projection='3d')\n",
    "ax.scatter(temperature, density, pressure, label='Experimental data', zorder=5)\n",
    "surface = ax.plot_surface(\n",
    "    viral_temperature_linspace, viral_density_linspace, viral_pressure_linspace, cmap='inferno', alpha=0.5, label='Viral equation of state $R^2=%s$' %r, zorder=0\n",
    ")\n",
    "ax.set_xlabel(r'$T (K)$')\n",
    "ax.set_ylabel(r'$\\rho (kg/m^3)$')\n",
    "ax.set_zlabel(r'$p (Pa)$')\n",
    "fig.legend(edgecolor='k')\n",
    "fig.colorbar(surface, ax=ax, label=r'$p (Pa)$', shrink=.75, pad=.2)\n",
    "fig.show()"
   ],
   "metadata": {
    "collapsed": false,
    "ExecuteTime": {
     "end_time": "2024-06-25T21:28:41.045612500Z",
     "start_time": "2024-06-25T21:28:40.807395100Z"
    }
   },
   "id": "df459041ced901d7",
   "execution_count": 31
  },
  {
   "cell_type": "code",
   "outputs": [
    {
     "name": "stdout",
     "output_type": "stream",
     "text": [
      "-0.7273167845178855 0.039706416289305976 0.08991395640184985\n"
     ]
    }
   ],
   "source": [
    "A = fit_second_viral_popt[0] * critical_density / critical_temperature ** 2\n",
    "B = fit_second_viral_popt[1] * critical_density / critical_temperature ** 4\n",
    "C = fit_second_viral_popt[2] * critical_density\n",
    "print(A, B, C)"
   ],
   "metadata": {
    "collapsed": false,
    "ExecuteTime": {
     "end_time": "2024-06-17T23:36:53.545038500Z",
     "start_time": "2024-06-17T23:36:53.478796500Z"
    }
   },
   "id": "5b3b675fd88cfc20",
   "execution_count": 22
  },
  {
   "cell_type": "code",
   "outputs": [
    {
     "data": {
      "text/plain": "<Figure size 640x480 with 1 Axes>",
      "image/png": "[encoded data removed]"
     },
     "metadata": {},
     "output_type": "display_data"
    }
   ],
   "source": [
    "plotter = Plotter(dimension='2d')\n",
    "for temp in temperature_set:\n",
    "    mask = (temp == temperature)\n",
    "    temperature_temp = temperature[mask]\n",
    "    pressure_temp = pressure[mask]\n",
    "    density_temp = density[mask]\n",
    "    plotter.plot(temperature_temp, R * temperature_temp ** 2 * density_temp * second_viral_dev(temperature_temp, *second_viral_popt))\n",
    "plotter.grid(True)\n",
    "plotter.show()"
   ],
   "metadata": {
    "collapsed": false,
    "ExecuteTime": {
     "end_time": "2024-06-05T09:35:51.827366800Z",
     "start_time": "2024-06-05T09:35:51.557403100Z"
    }
   },
   "id": "fae396caad146c48",
   "execution_count": 10
  },
  {
   "cell_type": "code",
   "outputs": [
    {
     "data": {
      "text/plain": "5950.63125"
     },
     "execution_count": 26,
     "metadata": {},
     "output_type": "execute_result"
    }
   ],
   "source": [
    "27 / 8 * critical_temperature"
   ],
   "metadata": {
    "collapsed": false,
    "ExecuteTime": {
     "end_time": "2024-05-30T00:26:26.797273900Z",
     "start_time": "2024-05-30T00:26:26.769657400Z"
    }
   },
   "id": "84bc68219be47864",
   "execution_count": 26
  },
  {
   "cell_type": "code",
   "outputs": [
    {
     "data": {
      "text/plain": "  message: Optimization terminated successfully.\n  success: True\n   status: 0\n      fun: 1.3707657073515119e-08\n        x: [ 1.081e+03  3.787e-02]\n      nit: 76\n      jac: [-2.442e-15  7.880e-11]\n hess_inv: [[ 7.872e+12 -1.680e+08]\n            [-1.680e+08  3.609e+03]]\n     nfev: 240\n     njev: 80"
     },
     "execution_count": 30,
     "metadata": {},
     "output_type": "execute_result"
    }
   ],
   "source": [
    "def LJ(x, eps, sigma, temperature):\n",
    "    return -4 * eps / temperature * ((sigma / x) ** 12 - (sigma / x) ** 6)\n",
    "\n",
    "\n",
    "def mayer_function(x, eps, sigma, temperature):\n",
    "    return (np.exp(LJ(x, eps, sigma, temperature)) - 1) * x ** 2\n",
    "\n",
    "\n",
    "def mayer_second_viral(temperature, eps, sigma):\n",
    "    return np.array(\n",
    "        [-2 * np.pi * quad(mayer_function, 0, 2.5 * sigma, args=(eps, sigma, temp))[0] for temp in temperature]\n",
    "        )\n",
    "\n",
    "\n",
    "def fit_second_viral(temperature, a, b, c):\n",
    "    return np.exp(a / temperature) + b / temperature ** 2 + c\n",
    "\n",
    "\n",
    "def rmse(a):\n",
    "    pred = mayer_second_viral(B_temperature, *a)\n",
    "    error = np.sum((B - pred) ** 2)\n",
    "    return error\n",
    "\n",
    "\n",
    "result = minimize(rmse, [400, 2], tol=1e-9)\n",
    "result"
   ],
   "metadata": {
    "collapsed": false,
    "ExecuteTime": {
     "end_time": "2024-06-04T04:11:40.200830200Z",
     "start_time": "2024-06-04T04:11:37.079562700Z"
    }
   },
   "id": "6bc4ad3b198f2dac",
   "execution_count": 30
  },
  {
   "cell_type": "code",
   "outputs": [
    {
     "data": {
      "text/plain": "<Figure size 640x480 with 1 Axes>",
      "image/png": "[encoded data removed]"
     },
     "metadata": {},
     "output_type": "display_data"
    }
   ],
   "source": [
    "plotter = Plotter(dimension='2d')\n",
    "plotter.scatter(B_temperature, B, label='Experimental data')\n",
    "plotter.plot(B_temperature_linspace, mayer_second_viral(B_temperature_linspace, *result.x))\n",
    "plotter.xlabel(r'$T (K)$')\n",
    "plotter.ylabel(r'$B_2(T)$')\n",
    "plotter.legend()\n",
    "plotter.grid(True)\n",
    "plotter.show()"
   ],
   "metadata": {
    "collapsed": false,
    "ExecuteTime": {
     "end_time": "2024-06-04T04:11:44.709564300Z",
     "start_time": "2024-06-04T04:11:43.210656400Z"
    }
   },
   "id": "170ca53af6f15eb6",
   "execution_count": 31
  },
  {
   "cell_type": "code",
   "outputs": [
    {
     "data": {
      "text/plain": "<Figure size 640x480 with 1 Axes>",
      "image/png": "[encoded data removed]"
     },
     "metadata": {},
     "output_type": "display_data"
    }
   ],
   "source": [
    "a_temperature = np.linspace(min(temperature), max(temperature))\n",
    "a_density = np.linspace(min(density), max(density))\n",
    "a_temperature, a_density = np.meshgrid(a_temperature, a_density)\n",
    "a_B = fit_function(a_temperature, *fit_popt)\n",
    "a_B_der = fit_function_derivative(a_temperature, *fit_popt)\n",
    "a_pressure = R * a_temperature / M * (a_density + a_B * a_density ** 2)\n",
    "a_Z = a_pressure * M / (R * a_temperature * a_density)\n",
    "a = 1 / a_temperature * (1 + a_density * (a_B + a_temperature * a_B_der)) / (1 + 2 * a_density * a_B)\n",
    "\n",
    "plotter = Plotter(dimension='2d')\n",
    "plotter.scatter(a_temperature, a)\n",
    "plotter.xlabel(r'$T (K)$')\n",
    "plotter.ylabel(r'$\\alpha$')\n",
    "plotter.show()"
   ],
   "metadata": {
    "collapsed": false,
    "ExecuteTime": {
     "end_time": "2024-06-04T04:11:52.647593500Z",
     "start_time": "2024-06-04T04:11:52.450030800Z"
    }
   },
   "id": "1659f7240dbf8c81",
   "execution_count": 32
  },
  {
   "cell_type": "code",
   "outputs": [
    {
     "data": {
      "text/plain": "<Figure size 640x480 with 1 Axes>",
      "image/png": "[encoded data removed]"
     },
     "metadata": {},
     "output_type": "display_data"
    }
   ],
   "source": [
    "boyle_temperature = np.linspace(0, 5000)\n",
    "plotter = Plotter(dimension='2d')\n",
    "plotter.scatter(boyle_temperature, fit_function_boyle(boyle_temperature, *fit_popt))\n",
    "plotter.grid(True)\n",
    "plotter.show()"
   ],
   "metadata": {
    "collapsed": false,
    "ExecuteTime": {
     "end_time": "2024-06-04T04:11:54.949096Z",
     "start_time": "2024-06-04T04:11:54.736041400Z"
    }
   },
   "id": "2ba8127b35d9ef61",
   "execution_count": 33
  },
  {
   "cell_type": "code",
   "outputs": [
    {
     "name": "stdout",
     "output_type": "stream",
     "text": [
      "[7.65561010e-01 2.87305518e-05]\n"
     ]
    }
   ],
   "source": [
    "def func(x, a, b):\n",
    "    pressure, density = x\n",
    "    return 1 / R * (pressure + a * density ** 2 / M ** 2) * (M / density - b)\n",
    "\n",
    "\n",
    "popt, pcov = curve_fit(func, (pressure, density), temperature)\n",
    "print(popt)\n",
    "\n",
    "van_temperature = func((pressure, density), *popt)\n",
    "van_error = r_squared(van_temperature, temperature)\n",
    "van_error = round(van_error, 4)\n",
    "\n",
    "plotter = Plotter(dimension='3d')\n",
    "plotter.scatter(temperature, pressure, density, label='Experimental data')\n",
    "plotter.scatter(van_temperature, pressure, density, label=rf'Van-der-Vaals equation. $R^2 = {van_error}$')\n",
    "plotter.xlabel(rf'$T(K \\degree )$')\n",
    "plotter.ylabel(rf'$p(Pa)$')\n",
    "plotter.zlabel(rf'$\\rho (kg/m^3)$')\n",
    "plotter.legend()\n",
    "plotter.grid(True)\n",
    "plotter.show()"
   ],
   "metadata": {
    "collapsed": false,
    "ExecuteTime": {
     "end_time": "2024-06-17T23:16:51.034356Z",
     "start_time": "2024-06-17T23:16:50.870627600Z"
    }
   },
   "id": "e13c47655de39422",
   "execution_count": 19
  },
  {
   "cell_type": "code",
   "outputs": [],
   "source": [
    "Z = pressure * M / (R * temperature)\n",
    "Z_van = pressure * M / (R * van_temperature)\n",
    "\n",
    "plotter = Plotter(dimension='2d')\n",
    "plotter.scatter(np.log(density), np.log(Z))\n",
    "# plotter.scatter(np.log(200), np.log())\n",
    "# plotter.plot(density, Z_van)\n",
    "plotter.grid(True)\n",
    "plotter.show()"
   ],
   "metadata": {
    "collapsed": false,
    "ExecuteTime": {
     "end_time": "2024-05-14T10:29:57.056884600Z",
     "start_time": "2024-05-14T10:29:56.895828900Z"
    }
   },
   "id": "16ca96d3145f51c5",
   "execution_count": 36
  },
  {
   "cell_type": "code",
   "outputs": [],
   "source": [
    "%matplotlib qt"
   ],
   "metadata": {
    "collapsed": false,
    "ExecuteTime": {
     "end_time": "2024-05-27T23:27:13.506710200Z",
     "start_time": "2024-05-27T23:27:13.394101500Z"
    }
   },
   "id": "1a79208696b0a7aa",
   "execution_count": 84
  },
  {
   "cell_type": "code",
   "outputs": [],
   "source": [
    "%matplotlib inline"
   ],
   "metadata": {
    "collapsed": false,
    "ExecuteTime": {
     "end_time": "2024-05-19T18:03:56.607785Z",
     "start_time": "2024-05-19T18:03:56.565611Z"
    }
   },
   "id": "4a53940f8dd170f1",
   "execution_count": 50
  },
  {
   "cell_type": "markdown",
   "source": [
    "<h2 align='center'>Second viral coefficient by Difference Evolution</h2>"
   ],
   "metadata": {
    "collapsed": false
   },
   "id": "2e5d0350f51a55d1"
  },
  {
   "cell_type": "code",
   "outputs": [],
   "source": [
    "Z = pressure * M / (R * temperature)\n",
    "\n",
    "\n",
    "def viral_equation(x, a):\n",
    "    return x + a[0] * x ** 2\n",
    "\n",
    "\n",
    "def rmse(a):\n",
    "    y_pred = viral_equation(density, a)\n",
    "    return np.sqrt(np.sum(Z - y_pred) ** 2 / len(Z))\n",
    "\n",
    "\n",
    "result = list(de(rmse, bounds=[(-100, 100)] * 1, its=300))\n",
    "args, f = result[-1]"
   ],
   "metadata": {
    "collapsed": false,
    "ExecuteTime": {
     "end_time": "2024-05-27T23:10:54.179093700Z",
     "start_time": "2024-05-27T23:10:52.604802200Z"
    }
   },
   "id": "595701f8a10b03c7",
   "execution_count": 24
  },
  {
   "cell_type": "code",
   "outputs": [
    {
     "data": {
      "text/plain": "<Figure size 640x480 with 1 Axes>",
      "image/png": "[encoded data removed]"
     },
     "metadata": {},
     "output_type": "display_data"
    }
   ],
   "source": [
    "plotter = Plotter(dimension='3d')\n",
    "plotter.scatter(temperature, density, Z, c=Z, cmap='inferno')\n",
    "# plotter.plot(density, viral_equation(density, args))\n",
    "plotter.show()"
   ],
   "metadata": {
    "collapsed": false,
    "ExecuteTime": {
     "end_time": "2024-05-27T23:10:57.235993200Z",
     "start_time": "2024-05-27T23:10:57.028698300Z"
    }
   },
   "id": "c998483ea3a1aaf5",
   "execution_count": 25
  },
  {
   "cell_type": "code",
   "outputs": [
    {
     "name": "stdout",
     "output_type": "stream",
     "text": [
      "Temperature: 493.1499938964844\n",
      "Temperature: 513.1500244140625\n",
      "Temperature: 533.1500244140625\n",
      "Temperature: 553.1500244140625\n",
      "Temperature: 573.1500244140625\n",
      "Temperature: 593.1500244140625\n",
      "Temperature: 613.1500244140625\n",
      "Temperature: 633.1500244140625\n",
      "Temperature: 653.1500244140625\n",
      "Temperature: 673.1500244140625\n",
      "Temperature: 693.1500244140625\n",
      "Temperature: 713.1500244140625\n",
      "Temperature: 733.1500244140625\n",
      "Temperature: 753.1500244140625\n",
      "Temperature: 773.1500244140625\n",
      "Temperature: 793.1500244140625\n",
      "Temperature: 813.1500244140625\n",
      "Temperature: 833.1500244140625\n",
      "Temperature: 853.1500244140625\n",
      "Temperature: 873.1500244140625\n",
      "Temperature: 893.1500244140625\n",
      "Temperature: 913.1500244140625\n",
      "Temperature: 933.1500244140625\n",
      "Temperature: 953.1500244140625\n",
      "Temperature: 973.1500244140625\n",
      "Temperature: 1073.1500244140625\n",
      "Temperature: 1093.1500244140625\n",
      "Temperature: 1113.1500244140625\n",
      "Temperature: 1133.1500244140625\n",
      "Temperature: 1153.1500244140625\n",
      "Temperature: 1173.1500244140625\n",
      "Temperature: 1193.1500244140625\n",
      "Temperature: 1213.1500244140625\n",
      "Temperature: 1233.1500244140625\n",
      "Temperature: 1253.1500244140625\n",
      "Temperature: 1273.1500244140625\n",
      "Temperature: 1473.1500244140625\n",
      "Temperature: 1673.1500244140625\n",
      "Temperature: 1873.1500244140625\n",
      "Temperature: 2073.14990234375\n",
      "Temperature: 2273.14990234375\n"
     ]
    }
   ],
   "source": [
    "B_DE = []\n",
    "for temp in temperature_set:\n",
    "    temp_mask = (temp == temperature)\n",
    "    density_temp = density[temp_mask]\n",
    "    temperature_temp = temperature[temp_mask]\n",
    "    pressure_temp = pressure[temp_mask]\n",
    "    Z_temp = pressure_temp * M / (R * temperature_temp)\n",
    "\n",
    "\n",
    "    def rmse(a):\n",
    "        y_pred = viral_equation(density_temp, a)\n",
    "        return np.sqrt(np.sum(Z_temp - y_pred) ** 2 / len(Z_temp))\n",
    "\n",
    "\n",
    "    result = list(de(rmse, bounds=[(-100, 100)] * 1, its=100, mut=0.7, popsize=20))\n",
    "    args, f = result[-1]\n",
    "    B_DE.append(args[0])\n",
    "    print(f'Temperature: {temp}')"
   ],
   "metadata": {
    "collapsed": false,
    "ExecuteTime": {
     "end_time": "2024-05-30T00:53:32.099725700Z",
     "start_time": "2024-05-30T00:53:23.894315100Z"
    }
   },
   "id": "f035873f439b83ba",
   "execution_count": 82
  },
  {
   "cell_type": "code",
   "outputs": [],
   "source": [
    "def mayer_function(x, eps, sigma, temperature):\n",
    "    return (np.exp(-4 * eps / temperature * ((sigma / x) ** 12 - (sigma / x) ** 6)) - 1) * x ** 2\n",
    "\n",
    "\n",
    "eps, sigma = 300, 3\n",
    "viral_B = [-2 * np.pi * quad(mayer_function, 0, 10, args=(eps, sigma, temp))[0] for temp in temperature_set]"
   ],
   "metadata": {
    "collapsed": false,
    "ExecuteTime": {
     "end_time": "2024-05-20T20:04:51.997524300Z",
     "start_time": "2024-05-20T20:04:51.932042Z"
    }
   },
   "id": "ebdbb53d828b912c",
   "execution_count": 23
  },
  {
   "cell_type": "code",
   "outputs": [],
   "source": [
    "plotter = Plotter(dimension='2d')\n",
    "plotter.scatter(temperature_set, B_DE)\n",
    "# plotter.plot(temperature_set, viral_B)\n",
    "plotter.xlabel(r'$T (K \\degree )$')\n",
    "plotter.ylabel(r'$B_2(T)$')\n",
    "plotter.grid(True)\n",
    "plotter.show()"
   ],
   "metadata": {
    "collapsed": false,
    "ExecuteTime": {
     "end_time": "2024-05-30T00:53:35.017079100Z",
     "start_time": "2024-05-30T00:53:34.917180600Z"
    }
   },
   "id": "4cbb6224b697b723",
   "execution_count": 83
  },
  {
   "cell_type": "code",
   "outputs": [
    {
     "data": {
      "text/plain": "array([85.77006169])"
     },
     "execution_count": 22,
     "metadata": {},
     "output_type": "execute_result"
    }
   ],
   "source": [
    "args"
   ],
   "metadata": {
    "collapsed": false,
    "ExecuteTime": {
     "end_time": "2024-05-19T17:37:30.789858Z",
     "start_time": "2024-05-19T17:37:30.766796Z"
    }
   },
   "id": "77e1ff890ebdbae6",
   "execution_count": 22
  },
  {
   "cell_type": "code",
   "outputs": [],
   "source": [
    "plt.figure()\n",
    "Z = pressure * M / (R * temperature * density)\n",
    "\n",
    "max_pressure_mask = (pressure == 20000000)\n",
    "max_1_pressure_mask = (pressure == 18000000)\n",
    "max_2_pressure_mask = (pressure == 16000000)\n",
    "max_3_pressure_mask = (pressure == 14000000)\n",
    "max_4_pressure_mask = (pressure == 12000000)\n",
    "max_5_pressure_mask = (pressure == 10000000)\n",
    "min_pressure_mask = (pressure == 1000)\n",
    "min_1_pressure_mask = (pressure == 5000)\n",
    "\n",
    "ideal_Z = pressure * M / (R * temperature * density)\n",
    "saturation_Z = saturation_pressure * M / (R * saturation_temperature * saturation_density)\n",
    "plt.scatter(temperature, Z)\n",
    "plt.plot(temperature[min_pressure_mask], ideal_Z[min_pressure_mask], label=r'$P=0,01 \\bullet 10^5 (Pa)$')\n",
    "plt.plot(temperature[min_1_pressure_mask], ideal_Z[min_1_pressure_mask], label=r'$P=0,05 \\bullet 10^5 (Pa)$')\n",
    "plt.plot(temperature[max_5_pressure_mask], ideal_Z[max_5_pressure_mask], label=r'$P=100 \\bullet 10^5 (Pa)$')\n",
    "plt.plot(temperature[max_4_pressure_mask], ideal_Z[max_4_pressure_mask], label=r'$P=120 \\bullet 10^5 (Pa)$')\n",
    "plt.plot(temperature[max_3_pressure_mask], ideal_Z[max_3_pressure_mask], label=r'$P=140 \\bullet 10^5 (Pa)$')\n",
    "plt.plot(temperature[max_2_pressure_mask], ideal_Z[max_2_pressure_mask], label=r'$P=160 \\bullet 10^5 (Pa)$')\n",
    "plt.plot(temperature[max_1_pressure_mask], ideal_Z[max_1_pressure_mask], label=r'$P=180 \\bullet 10^5 (Pa)$')\n",
    "plt.plot(temperature[max_pressure_mask], ideal_Z[max_pressure_mask], label=r'$P=200 \\bullet 10^5 (Pa)$')\n",
    "plt.plot(saturation_temperature, saturation_Z, label='Saturation line')\n",
    "plt.vlines(critical_temperature, 0.9, 1.1, color='r', label='Critical temperature')\n",
    "plt.xlabel(r'$T(K)$')\n",
    "plt.ylabel(r'$Z=\\frac {pM} {RT \\rho}$')\n",
    "plt.xlim([250, 2500])\n",
    "plt.ylim([0.9, 1.1])\n",
    "plt.legend()\n",
    "plt.grid(True)\n",
    "plt.show()"
   ],
   "metadata": {
    "collapsed": false,
    "ExecuteTime": {
     "end_time": "2024-06-17T23:16:39.380824200Z",
     "start_time": "2024-06-17T23:16:39.248586400Z"
    }
   },
   "id": "11e5f5a44c7448fe",
   "execution_count": 18
  },
  {
   "cell_type": "code",
   "outputs": [],
   "source": [
    "plotter = Plotter(dimension='2d')\n",
    "for index, temp in enumerate(temperature_set):\n",
    "    mask = (temp == temperature)\n",
    "    temp_pressure = R / M * temp * viral_equation(density[mask], B[index]) * density[mask]\n",
    "    plotter.scatter(pressure[mask], temp_pressure)\n",
    "plotter.grid(True)\n",
    "plotter.show()"
   ],
   "metadata": {
    "collapsed": false,
    "ExecuteTime": {
     "end_time": "2024-05-25T04:13:07.692245900Z",
     "start_time": "2024-05-25T04:13:07.487664600Z"
    }
   },
   "id": "7d278805b8e39853",
   "execution_count": 37
  },
  {
   "cell_type": "code",
   "outputs": [
    {
     "ename": "NameError",
     "evalue": "name 'temperature_set' is not defined",
     "output_type": "error",
     "traceback": [
      "\u001B[1;31m---------------------------------------------------------------------------\u001B[0m",
      "\u001B[1;31mNameError\u001B[0m                                 Traceback (most recent call last)",
      "Cell \u001B[1;32mIn[1], line 5\u001B[0m\n\u001B[0;32m      2\u001B[0m     \u001B[38;5;28;01mreturn\u001B[39;00m \u001B[38;5;241m1\u001B[39m \u001B[38;5;241m+\u001B[39m a \u001B[38;5;241m*\u001B[39m x\n\u001B[0;32m      4\u001B[0m A_2 \u001B[38;5;241m=\u001B[39m []\n\u001B[1;32m----> 5\u001B[0m \u001B[38;5;28;01mfor\u001B[39;00m temp \u001B[38;5;129;01min\u001B[39;00m \u001B[43mtemperature_set\u001B[49m:\n\u001B[0;32m      6\u001B[0m     temp_mask \u001B[38;5;241m=\u001B[39m (temp \u001B[38;5;241m==\u001B[39m temperature)\n\u001B[0;32m      7\u001B[0m     density_temp \u001B[38;5;241m=\u001B[39m density[temp_mask]\n",
      "\u001B[1;31mNameError\u001B[0m: name 'temperature_set' is not defined"
     ]
    }
   ],
   "source": [
    "def viral_pressure(x, a):\n",
    "    return 1 + a * x\n",
    "\n",
    "\n",
    "A_2 = []\n",
    "for temp in temperature_set:\n",
    "    temp_mask = (temp == temperature)\n",
    "    density_temp = density[temp_mask]\n",
    "    temperature_temp = temperature[temp_mask]\n",
    "    pressure_temp = pressure[temp_mask]\n",
    "    Z_temp = pressure_temp * M / (R * temperature_temp * density_temp)\n",
    "\n",
    "    popt, pcov = curve_fit(viral_pressure, pressure_temp, Z_temp)\n",
    "    A_2.append(popt[0])\n",
    "\n",
    "plotter = Plotter(dimension='2d')\n",
    "plotter.scatter(temperature_set, A_2)\n",
    "plotter.grid(True)\n",
    "plotter.show()"
   ],
   "metadata": {
    "collapsed": false,
    "ExecuteTime": {
     "end_time": "2024-05-29T03:22:53.623383400Z",
     "start_time": "2024-05-29T03:22:52.829576500Z"
    }
   },
   "id": "7f11a0493f0a088a",
   "execution_count": 1
  },
  {
   "cell_type": "code",
   "outputs": [],
   "source": [
    "Z = pressure * M / (R * density)\n",
    "plotter = Plotter(dimension='3d')\n",
    "plotter.scatter(temperature, density, Z, c=Z, cmap='inferno')\n",
    "plotter.show()"
   ],
   "metadata": {
    "collapsed": false,
    "ExecuteTime": {
     "end_time": "2024-05-25T03:56:51.406164800Z",
     "start_time": "2024-05-25T03:56:51.303724800Z"
    }
   },
   "id": "43e15e308648929e",
   "execution_count": 18
  },
  {
   "cell_type": "code",
   "outputs": [
    {
     "data": {
      "text/plain": "1650.0"
     },
     "execution_count": 135,
     "metadata": {},
     "output_type": "execute_result"
    }
   ],
   "source": [
    "max(saturation_temperature)"
   ],
   "metadata": {
    "collapsed": false,
    "ExecuteTime": {
     "end_time": "2024-05-20T22:28:25.714585200Z",
     "start_time": "2024-05-20T22:28:25.678447600Z"
    }
   },
   "id": "cfe444e7eb7209f4",
   "execution_count": 135
  },
  {
   "cell_type": "code",
   "outputs": [],
   "source": [
    "%matplotlib qt"
   ],
   "metadata": {
    "collapsed": false,
    "ExecuteTime": {
     "end_time": "2024-06-04T13:44:47.281402800Z",
     "start_time": "2024-06-04T13:44:46.784560Z"
    }
   },
   "id": "11c95d22b7118569",
   "execution_count": 7
  },
  {
   "cell_type": "code",
   "outputs": [],
   "source": [
    "%matplotlib inline"
   ],
   "metadata": {
    "collapsed": false
   },
   "id": "ed6ab1f74c385489"
  },
  {
   "cell_type": "markdown",
   "source": [
    "<h2 align='center'>Extension Coefficient</h2>"
   ],
   "metadata": {
    "collapsed": false
   },
   "id": "da8f4b5a12a837ef"
  },
  {
   "cell_type": "code",
   "outputs": [],
   "source": [
    "a = (1 / temperature * (1 + density * second_viral(temperature, *second_viral_popt)) + density * second_viral_dev(temperature, *second_viral_popt)) / (\n",
    "    1 + 2 * second_viral(temperature, *second_viral_popt) * density)\n",
    "\n",
    "plt.figure(layout='compressed', figsize=(6, 6))\n",
    "plotter = Plotter(dimension='2d')\n",
    "for temp in pressure_set:\n",
    "    mask = (temp == pressure)\n",
    "    temp_temperature = temperature[mask]\n",
    "    temp_pressure = pressure[mask]\n",
    "    temp_density = density[mask]\n",
    "\n",
    "    temp_a = -1 / temp_density[0:-1] * np.diff(temp_density) / np.diff(temp_temperature)\n",
    "    temp_a_density = temp_temperature[0:-1]\n",
    "    plotter.scatter(temp_a_density, temp_a, color='b')\n",
    "    # plotter.plot(temperature[mask], a[mask])\n",
    "\n",
    "plotter.grid(True)\n",
    "plotter.show()"
   ],
   "metadata": {
    "collapsed": false,
    "ExecuteTime": {
     "end_time": "2024-06-23T20:53:16.756771800Z",
     "start_time": "2024-06-23T20:53:16.515700100Z"
    }
   },
   "id": "ab3535ce89c7fd4e",
   "execution_count": 75
  },
  {
   "cell_type": "code",
   "outputs": [],
   "source": [
    "a = (1 / temperature * (1 + density * second_viral(temperature, *second_viral_popt)) + density * second_viral_dev(temperature, *second_viral_popt)) / (\n",
    "    1 + 2 * second_viral(temperature, *second_viral_popt) * density)\n",
    "saturation_a = (1 / saturation_temperature * (1 + saturation_density * second_viral(saturation_temperature, *second_viral_popt)) + saturation_density * second_viral_dev(saturation_temperature, *second_viral_popt)) / (\n",
    "    1 + 2 * second_viral(saturation_temperature, *second_viral_popt) * saturation_density)\n",
    "\n",
    "plotter = Plotter(dimension='2d')\n",
    "for temp in pressure_set:\n",
    "    mask = (temp == pressure)\n",
    "    plotter.plot(temperature[mask], a[mask])\n",
    "plotter.scatter(temperature, a)\n",
    "# plotter.plot(saturation_temperature, saturation_a)\n",
    "plotter.grid(True)\n",
    "plotter.xlabel('$T (K)$')\n",
    "plotter.ylabel(r'$\\alpha$')\n",
    "plotter.show()"
   ],
   "metadata": {
    "collapsed": false,
    "ExecuteTime": {
     "end_time": "2024-06-23T20:53:13.868963600Z",
     "start_time": "2024-06-23T20:53:13.685411Z"
    }
   },
   "id": "381aa3ed191afbc",
   "execution_count": 74
  },
  {
   "cell_type": "code",
   "outputs": [],
   "source": [
    "U = 3 / 2 * R * temperature - R * temperature ** 2 * fit_second_viral(temperature, *fit_second_viral_popt) * density"
   ],
   "metadata": {
    "collapsed": false,
    "ExecuteTime": {
     "end_time": "2024-06-05T13:20:05.960090500Z",
     "start_time": "2024-06-05T13:20:05.896192300Z"
    }
   },
   "id": "e46a59b95c3af2e7",
   "execution_count": 109
  },
  {
   "cell_type": "code",
   "outputs": [],
   "source": [
    "plotter = Plotter(dimension='3d')\n",
    "plotter.scatter(temperature, density, U, alpha=0.5)\n",
    "# plotter.plot(temperature[pressure == 2000000], U[pressure == 2000000])\n",
    "# plotter.plot(temperature[pressure == 20000000], U[pressure == 20000000])\n",
    "# plotter.plot(temperature[pressure == 18000000], U[pressure == 18000000])\n",
    "plotter.grid(True)\n",
    "plotter.show()"
   ],
   "metadata": {
    "collapsed": false,
    "ExecuteTime": {
     "end_time": "2024-06-05T13:21:14.748271400Z",
     "start_time": "2024-06-05T13:21:14.594995300Z"
    }
   },
   "id": "5ebd79706ff9e945",
   "execution_count": 113
  },
  {
   "cell_type": "code",
   "outputs": [],
   "source": [
    "cv = 3 / 2 * R - 2 * R * density * temperature * fit_second_viral_dev(temperature, *fit_second_viral_popt) - density * R * temperature ** 2 * fit_second_viral_dev2(temperature, *fit_second_viral_popt)"
   ],
   "metadata": {
    "collapsed": false,
    "ExecuteTime": {
     "end_time": "2024-06-04T09:38:23.144440400Z",
     "start_time": "2024-06-04T09:38:23.126323700Z"
    }
   },
   "id": "88c254268cc04626",
   "execution_count": 247
  },
  {
   "cell_type": "code",
   "outputs": [],
   "source": [
    "plotter = Plotter(dimension='2d')\n",
    "plotter.scatter(temperature, cv, alpha=0.5)\n",
    "for temp in pressure_set:\n",
    "    mask = (temp == pressure)\n",
    "    plotter.plot(temperature[mask], cv[mask])\n",
    "plotter.grid(True)\n",
    "plotter.show()"
   ],
   "metadata": {
    "collapsed": false,
    "ExecuteTime": {
     "end_time": "2024-06-04T09:38:23.652707200Z",
     "start_time": "2024-06-04T09:38:23.506137300Z"
    }
   },
   "id": "d59fcedf3f9add05",
   "execution_count": 248
  },
  {
   "cell_type": "markdown",
   "source": [
    "<h2 align='center'> alpha coefficient</h2>"
   ],
   "metadata": {
    "collapsed": false
   },
   "id": "5786f0788cc27b1c"
  },
  {
   "cell_type": "code",
   "outputs": [
    {
     "data": {
      "text/plain": "array([], dtype=float32)"
     },
     "execution_count": 121,
     "metadata": {},
     "output_type": "execute_result"
    }
   ],
   "source": [
    "a_exp, a_exp_temperature, a_exp_density = [], [], []\n",
    "a_viral, a_viral_temperature = [], []\n",
    "for temp in pressure_set:\n",
    "    mask = (temp == pressure)\n",
    "    temp_temperature = temperature[mask]\n",
    "    temp_pressure = pressure[mask] \n",
    "    temp_density = density[mask]\n",
    "    \n",
    "    a_exp.extend(-1 / temp_density[0:-1] * np.diff(temp_density) / np.diff(temp_temperature))\n",
    "    a_exp_temperature.extend(temp_temperature[0:-1])\n",
    "    a_exp_density.extend(temp_density[0:-1])\n",
    "    a_viral.extend((1 + fit_second_viral(temp_temperature[1:], *fit_second_viral_popt) * temp_density[1:] + temp_temperature[1:] * temp_density[1:] * fit_second_viral_dev(temp_temperature[1:], *fit_second_viral_popt)) / (temp_temperature[1:] * (1 + 2 * fit_second_viral(temp_temperature[1:], *fit_second_viral_popt) * temp_density[1:])))\n",
    "    a_viral_temperature.extend(temp_temperature[0:-1])\n",
    "\n",
    "a_viral = np.array(a_viral)\n",
    "a_viral[(a_viral<0.00045) & (a_viral > 0.0004)]\n",
    "# a_viral = (1 + fit_second_viral(temperature, *fit_second_viral_popt) * density + temperature * density * fit_second_viral_dev(temperature, *fit_second_viral_popt)) / (temperature * (1 + 2 * fit_second_viral(temperature, *fit_second_viral_popt) * density))"
   ],
   "metadata": {
    "collapsed": false,
    "ExecuteTime": {
     "end_time": "2024-06-23T21:50:38.460312500Z",
     "start_time": "2024-06-23T21:50:38.409035600Z"
    }
   },
   "id": "30fffec34d4baf4e",
   "execution_count": 121
  },
  {
   "cell_type": "code",
   "outputs": [],
   "source": [
    "r = r_squared(a_viral, a_exp)\n",
    "r = np.round(r, 4)\n",
    "\n",
    "plt.figure(layout='compressed', figsize=(7, 6))\n",
    "plotter = Plotter(dimension='2d')\n",
    "plotter.scatter(a_exp_temperature, a_exp, alpha=0.5, label='Experimental data')\n",
    "plotter.scatter(a_viral_temperature, a_viral, alpha=0.5, label=rf'Equation $R^2={r}$')\n",
    "plotter.legend(edgecolor='k', fontsize=16)\n",
    "plotter.grid(True)\n",
    "plotter.xlabel(r'$T (K)$', fontsize=16)\n",
    "plotter.ylabel(r'$\\alpha (K^{-1})$', fontsize=16)\n",
    "plotter.show()"
   ],
   "metadata": {
    "collapsed": false,
    "ExecuteTime": {
     "end_time": "2024-06-23T21:50:40.917394600Z",
     "start_time": "2024-06-23T21:50:40.676891200Z"
    }
   },
   "id": "974ef1f431d921e0",
   "execution_count": 122
  },
  {
   "cell_type": "code",
   "outputs": [
    {
     "data": {
      "text/plain": "array([140000.], dtype=float32)"
     },
     "execution_count": 53,
     "metadata": {},
     "output_type": "execute_result"
    }
   ],
   "source": [
    "temperature[:789][a_exp == min(a_exp)]\n",
    "pressure[:789][a_exp == min(a_exp)]"
   ],
   "metadata": {
    "collapsed": false,
    "ExecuteTime": {
     "end_time": "2024-06-17T23:49:49.509825500Z",
     "start_time": "2024-06-17T23:49:49.381455600Z"
    }
   },
   "id": "9fd21ed6d1df1277",
   "execution_count": 53
  },
  {
   "cell_type": "code",
   "outputs": [],
   "source": [
    "a_viral_temperature_linspace = np.linspace(min(temperature), max(temperature), 50)\n",
    "a_viral_density_linspace = np.linspace(min(density), max(density), 50)\n",
    "a_viral_temperature_linspace, a_viral_density_linspace = np.meshgrid(a_viral_temperature_linspace, a_viral_density_linspace)\n",
    "a_viral_meshgrid = (1 + fit_second_viral(a_viral_temperature_linspace, *fit_second_viral_popt) * a_viral_density_linspace + a_viral_temperature_linspace * a_viral_density_linspace * fit_second_viral_dev(a_viral_temperature_linspace, *fit_second_viral_popt)) / (a_viral_temperature_linspace * (1 + 2 * fit_second_viral(a_viral_temperature_linspace, *fit_second_viral_popt) * a_viral_density_linspace))\n",
    "\n",
    "fig = plt.figure()\n",
    "ax = plt.axes(projection='3d')\n",
    "ax.scatter(a_exp_temperature, a_exp_density, a_exp, label='Experimental data')\n",
    "surface = ax.plot_surface(a_viral_temperature_linspace, a_viral_density_linspace, a_viral_meshgrid, cmap='inferno', alpha=0.5, label='Equation')\n",
    "plt.colorbar(surface, ax=ax, shrink=.75, pad=.2, label=r'$\\alpha (K^{-1})$')\n",
    "ax.set_xlabel(r'$T(K)$')\n",
    "ax.set_ylabel(r'$\\rho (kg/m^3)$')\n",
    "ax.set_zlabel(r'$\\alpha (K^{-1})$')\n",
    "plt.tight_layout()\n",
    "fig.legend(edgecolor='k')\n",
    "plt.show()"
   ],
   "metadata": {
    "collapsed": false,
    "ExecuteTime": {
     "end_time": "2024-06-23T21:28:16.565705200Z",
     "start_time": "2024-06-23T21:28:16.220363700Z"
    }
   },
   "id": "3d14f0cb22070cc",
   "execution_count": 107
  },
  {
   "cell_type": "code",
   "outputs": [],
   "source": [
    "x_ticks_labels = np.linspace(min(a_exp), max(a_exp), 5)\n",
    "y_ticks_labels = np.linspace(min(a_exp), max(a_exp), 5)\n",
    "\n",
    "plt.figure(layout='compressed', figsize=(7, 6))\n",
    "ax = plt.axes()\n",
    "plt.scatter(a_exp, a_viral, alpha=0.5, s=50)\n",
    "plt.plot([min(a_exp), max(a_exp)], [min(a_exp), max(a_exp)], color='r', label=r'$y(x)=x$')\n",
    "plt.grid(True)\n",
    "plt.legend(edgecolor='k', fontsize=16)\n",
    "plt.xlabel(r'$\\alpha_{эксп}$', fontsize=16)\n",
    "plt.ylabel(r'$\\alpha_{вир}$', fontsize=16)\n",
    "ax.set_xticks(x_ticks_labels)\n",
    "ax.set_yticks(y_ticks_labels)\n",
    "plt.show()"
   ],
   "metadata": {
    "collapsed": false,
    "ExecuteTime": {
     "end_time": "2024-06-23T21:31:34.039463700Z",
     "start_time": "2024-06-23T21:31:33.917934Z"
    }
   },
   "id": "be94c2d4bea5602a",
   "execution_count": 112
  },
  {
   "cell_type": "code",
   "outputs": [
    {
     "data": {
      "text/plain": "<Figure size 640x480 with 1 Axes>",
      "image/png": "[encoded data removed]"
     },
     "metadata": {},
     "output_type": "display_data"
    }
   ],
   "source": [
    "Z = pressure * M / (R * temperature * density)\n",
    "second_viral_coefficient, second_viral_coefficient_temperature = [], []\n",
    "\n",
    "for temp in temperature_set:\n",
    "    mask = (temp == temperature)\n",
    "    second_viral_coefficient.extend(np.diff(Z[mask]) / np.diff(density[mask]))\n",
    "    second_viral_coefficient_temperature.extend(temperature[mask][0:-1])\n",
    "\n",
    "fig = plt.figure()\n",
    "plt.scatter(second_viral_coefficient_temperature, second_viral_coefficient)\n",
    "plt.ylim([-0.001, 0.0005])\n",
    "plt.grid(True)\n",
    "plt.show()"
   ],
   "metadata": {
    "collapsed": false,
    "ExecuteTime": {
     "end_time": "2024-06-05T10:25:55.415046700Z",
     "start_time": "2024-06-05T10:25:55.219441Z"
    }
   },
   "id": "ea93c9495a5d6292",
   "execution_count": 62
  },
  {
   "cell_type": "code",
   "outputs": [],
   "source": [
    "%matplotlib qt"
   ],
   "metadata": {
    "collapsed": false,
    "ExecuteTime": {
     "end_time": "2024-06-05T12:21:19.678453500Z",
     "start_time": "2024-06-05T12:21:19.629375400Z"
    }
   },
   "id": "c25140a5f9610722",
   "execution_count": 100
  },
  {
   "cell_type": "code",
   "outputs": [],
   "source": [],
   "metadata": {
    "collapsed": false
   },
   "id": "26e7740c83c8a00"
  }
 ],
 "metadata": {
  "kernelspec": {
   "display_name": "Python 3",
   "language": "python",
   "name": "python3"
  },
  "language_info": {
   "codemirror_mode": {
    "name": "ipython",
    "version": 2
   },
   "file_extension": ".py",
   "mimetype": "text/x-python",
   "name": "python",
   "nbconvert_exporter": "python",
   "pygments_lexer": "ipython2",
   "version": "2.7.6"
  }
 },
 "nbformat": 4,
 "nbformat_minor": 5
}
