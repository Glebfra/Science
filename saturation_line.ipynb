{
 "cells": [
  {
   "cell_type": "code",
   "execution_count": 1,
   "id": "initial_id",
   "metadata": {
    "collapsed": true,
    "ExecuteTime": {
     "end_time": "2024-05-27T15:31:15.667146700Z",
     "start_time": "2024-05-27T15:31:12.827995600Z"
    }
   },
   "outputs": [],
   "source": [
    "import requests\n",
    "import numpy as np\n",
    "from scipy.optimize import curve_fit\n",
    "from src.plotter.Plotter import Plotter\n",
    "from src.maths.Error import r_squared"
   ]
  },
  {
   "cell_type": "code",
   "outputs": [],
   "source": [
    "R = 8.31\n",
    "M = 200.59e-3\n",
    "\n",
    "critical_temperature = 1490+273.15\n",
    "critical_pressure = 1510e5\n",
    "critical_density = 5500\n",
    "\n",
    "data = requests.get('http://v5464.hosted-by-vdsina.com:8000/science/phases/?format=json').json()['results']\n",
    "temperature = np.array([dat['temperature'] for dat in data])\n",
    "pressure = np.array([dat['pressure'] for dat in data])\n",
    "density = np.array([dat['density'] for dat in data])\n",
    "\n",
    "sort_mask = np.lexsort((temperature, pressure, density))\n",
    "temperature = temperature[sort_mask]\n",
    "pressure = pressure[sort_mask]\n",
    "density = density[sort_mask]\n",
    "\n",
    "saturation_data = requests.get('http://v5464.hosted-by-vdsina.com:8000/science/saturations/?format=json&limit=1000').json()['results']\n",
    "saturation_temperature = np.array([dat['temperature'] for dat in saturation_data])\n",
    "saturation_pressure = np.array([dat['pressure'] for dat in saturation_data])\n",
    "saturation_density = np.array([dat['density'] for dat in saturation_data])"
   ],
   "metadata": {
    "collapsed": false,
    "ExecuteTime": {
     "end_time": "2024-05-27T15:40:17.408996500Z",
     "start_time": "2024-05-27T15:40:17.027492Z"
    }
   },
   "id": "252b0ce551edf991",
   "execution_count": 6
  },
  {
   "cell_type": "code",
   "outputs": [
    {
     "name": "stderr",
     "output_type": "stream",
     "text": [
      "C:\\Users\\glebf\\AppData\\Local\\Temp\\ipykernel_18352\\3891208080.py:2: RuntimeWarning: invalid value encountered in power\n",
      "  return 1/tau * (a_1 * (1-tau) + a_2 * (1-tau) ** 1.5 + a_3 * (1-tau) ** 3 + a_4 * (1-tau) ** 3.5 + a_5 * (1-tau) ** 4 + a_6 * (1-tau) ** 7.5)\n"
     ]
    }
   ],
   "source": [
    "def saturation_line(tau, a_1, a_2, a_3, a_4, a_5, a_6):\n",
    "    return 1/tau * (a_1 * (1-tau) + a_2 * (1-tau) ** 1.5 + a_3 * (1-tau) ** 3 + a_4 * (1-tau) ** 3.5 + a_5 * (1-tau) ** 4 + a_6 * (1-tau) ** 7.5)\n",
    "\n",
    "def saturation_density_line(pressure, a, b):\n",
    "    return a * pressure + b\n",
    "\n",
    "def fit_function(x, a, b):\n",
    "    return a * x + b\n",
    "\n",
    "x = critical_temperature / saturation_temperature\n",
    "y = np.log(saturation_pressure / critical_pressure)\n",
    "\n",
    "wagner_popt, wagner_pcov = curve_fit(saturation_line, x, y)\n",
    "wagner_x = np.linspace(min(saturation_temperature), critical_temperature)\n",
    "wagner_y = saturation_line(critical_temperature / wagner_x, *wagner_popt)\n",
    "wagner_R = r_squared(np.exp(saturation_line(x, *wagner_popt)) * critical_pressure, saturation_pressure)\n",
    "\n",
    "saturation_popt, saturation_pcov = curve_fit(fit_function, 1 / x, y)\n",
    "saturation_x = wagner_x\n",
    "saturation_y = fit_function(saturation_x, *saturation_popt)\n",
    "\n",
    "plotter = Plotter(dimension='2d')\n",
    "plotter.scatter(saturation_temperature, saturation_pressure, color='b', label='Experimental data', alpha=0.5)\n",
    "plotter.scatter(critical_temperature, critical_pressure, color='r', label='Critical point')\n",
    "# plotter.plot(wagner_x, wagner_y, label=rf'Wagner equation, $R^2={np.round(wagner_R, 4)}$', color='r')\n",
    "plotter.plot(saturation_x, saturation_y, '--k', label='Saturation equation')\n",
    "plotter.xlabel(r'$\\frac {T_s} {T_c}$')\n",
    "plotter.ylabel(r'$ln( \\frac {p_s} {p_c})$')\n",
    "plotter.grid(True)\n",
    "plotter.legend()\n",
    "plotter.show()"
   ],
   "metadata": {
    "collapsed": false,
    "ExecuteTime": {
     "end_time": "2024-05-27T17:48:59.130321300Z",
     "start_time": "2024-05-27T17:48:59.040849800Z"
    }
   },
   "id": "38d993885371c142",
   "execution_count": 83
  },
  {
   "cell_type": "code",
   "outputs": [],
   "source": [
    "pheta_linspace = np.exp(saturation_line(tau_linspace, *sat_popt))\n",
    "dheta_linspace = np.exp(saturation_density_line(np.log(pheta_linspace), *den_popt))\n",
    "\n",
    "plotter = Plotter(dimension='3d')\n",
    "plotter.scatter(saturation_temperature, saturation_pressure, saturation_density)\n",
    "plotter.plot(tau_linspace * critical_temperature, pheta_linspace * critical_pressure, dheta_linspace * critical_density)\n",
    "plotter.scatter(critical_temperature, critical_pressure, critical_density, color='r')\n",
    "plotter.grid(True)\n",
    "plotter.show()"
   ],
   "metadata": {
    "collapsed": false,
    "ExecuteTime": {
     "end_time": "2024-05-27T15:57:01.578038800Z",
     "start_time": "2024-05-27T15:57:01.473524200Z"
    }
   },
   "id": "3ee2e604fec5d06b",
   "execution_count": 17
  },
  {
   "cell_type": "code",
   "outputs": [],
   "source": [
    "%matplotlib inline"
   ],
   "metadata": {
    "collapsed": false,
    "ExecuteTime": {
     "end_time": "2024-05-14T04:16:11.266352300Z",
     "start_time": "2024-05-14T04:16:11.256320900Z"
    }
   },
   "id": "d08c38825181ee70",
   "execution_count": 56
  },
  {
   "cell_type": "code",
   "outputs": [],
   "source": [
    "%matplotlib qt"
   ],
   "metadata": {
    "collapsed": false,
    "ExecuteTime": {
     "end_time": "2024-05-27T15:46:49.347662800Z",
     "start_time": "2024-05-27T15:46:48.236105600Z"
    }
   },
   "id": "f83b3381a19f1b0e",
   "execution_count": 12
  },
  {
   "cell_type": "code",
   "outputs": [
    {
     "data": {
      "text/plain": "<Figure size 640x480 with 1 Axes>",
      "image/png": "[encoded data removed]"
     },
     "metadata": {},
     "output_type": "display_data"
    }
   ],
   "source": [
    "Z = pressure * M / (R * temperature)\n",
    "temperature_set = list(set(temperature))\n",
    "plotter = Plotter(dimension='2d')\n",
    "for temp in temperature_set:\n",
    "    mask = (temperature == temp)\n",
    "    plotter.scatter(density[mask], Z[mask])\n",
    "plotter.grid(True)\n",
    "plotter.show()"
   ],
   "metadata": {
    "collapsed": false,
    "ExecuteTime": {
     "end_time": "2024-05-27T15:40:28.038692100Z",
     "start_time": "2024-05-27T15:40:27.135853300Z"
    }
   },
   "id": "173ae1d43a9428a0",
   "execution_count": 9
  },
  {
   "cell_type": "code",
   "outputs": [],
   "source": [
    "def fit_function(x, a, b):\n",
    "    return a * x + b\n",
    "\n",
    "x = critical_temperature / saturation_temperature\n",
    "y = np.log(saturation_pressure / critical_pressure)\n",
    "\n",
    "fit_popt, fit_pcov = curve_fit(fit_function, x, y)\n",
    "fit_popt = np.round(fit_popt, 2)\n",
    "x_linspace = np.linspace(1, max(x))\n",
    "y_linspace = fit_function(x_linspace, *fit_popt)\n",
    "\n",
    "plotter = Plotter(dimension='2d')\n",
    "plotter.scatter(x, y, alpha=0.5, color='b', label='Experimental data')\n",
    "plotter.plot(x_linspace, y_linspace, color='r', label='Saturation equation')\n",
    "plotter.legend()\n",
    "plotter.grid(True)\n",
    "plotter.text(5, -14, rf'$y={fit_popt[0]} \\bullet x + {fit_popt[1]}$')\n",
    "plotter.xlabel(r'$\\frac {T_c} {T_s}$')\n",
    "plotter.ylabel(r'$ln(\\frac {p_s} {p_c})$')\n",
    "plotter.show()"
   ],
   "metadata": {
    "collapsed": false,
    "ExecuteTime": {
     "end_time": "2024-05-27T17:16:52.193432Z",
     "start_time": "2024-05-27T17:16:52.096253600Z"
    }
   },
   "id": "a0693e9223ae9c7",
   "execution_count": 55
  },
  {
   "cell_type": "code",
   "outputs": [],
   "source": [
    "plotter = Plotter(dimension='2d')\n",
    "plotter.scatter(saturation_temperature, saturation_pressure, color='b', alpha=0.5, label='Experimental data')\n",
    "plotter.scatter(critical_temperature, critical_pressure, color='r', label='Critical point')\n",
    "plotter.plot(critical_temperature / x_linspace, np.exp(y_linspace) * critical_pressure, color='r', label='Saturation equation')\n",
    "plotter.grid(True)\n",
    "plotter.xlabel(r'$T (K)$')\n",
    "plotter.ylabel(r'$p (Pa)$')\n",
    "plotter.legend()\n",
    "plotter.show()"
   ],
   "metadata": {
    "collapsed": false,
    "ExecuteTime": {
     "end_time": "2024-05-27T17:17:18.426233200Z",
     "start_time": "2024-05-27T17:17:18.341750600Z"
    }
   },
   "id": "a5809ba06fa3ff12",
   "execution_count": 56
  },
  {
   "cell_type": "code",
   "outputs": [],
   "source": [],
   "metadata": {
    "collapsed": false
   },
   "id": "93fbaad9323edc63"
  }
 ],
 "metadata": {
  "kernelspec": {
   "display_name": "Python 3",
   "language": "python",
   "name": "python3"
  },
  "language_info": {
   "codemirror_mode": {
    "name": "ipython",
    "version": 2
   },
   "file_extension": ".py",
   "mimetype": "text/x-python",
   "name": "python",
   "nbconvert_exporter": "python",
   "pygments_lexer": "ipython2",
   "version": "2.7.6"
  }
 },
 "nbformat": 4,
 "nbformat_minor": 5
}
